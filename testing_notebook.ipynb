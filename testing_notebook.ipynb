{
 "cells": [
  {
   "cell_type": "markdown",
   "metadata": {},
   "source": [
    "# The purpose of this notebook is to test the functions in the various files. It's like a unittest code but I don't know how to do that so I'm doing this instead. "
   ]
  },
  {
   "cell_type": "code",
   "execution_count": 1,
   "metadata": {},
   "outputs": [],
   "source": [
    "import sys\n",
    "import importlib\n",
    "sys.path.append('.')\n",
    "\n",
    "%load_ext autoreload\n",
    "%autoreload 1"
   ]
  },
  {
   "cell_type": "markdown",
   "metadata": {},
   "source": [
    "## Agents.py testing "
   ]
  },
  {
   "cell_type": "code",
   "execution_count": 2,
   "metadata": {},
   "outputs": [],
   "source": [
    "%aimport agents"
   ]
  },
  {
   "cell_type": "code",
   "execution_count": 3,
   "metadata": {},
   "outputs": [
    {
     "data": {
      "text/plain": [
       "<module 'agents' from '/Users/lucas.spangher/Documents/Berkeley Files/Research/Deferable Loads/transactive_control/agents.py'>"
      ]
     },
     "execution_count": 3,
     "metadata": {},
     "output_type": "execute_result"
    }
   ],
   "source": [
    "importlib.reload(agents)"
   ]
  },
  {
   "cell_type": "code",
   "execution_count": 4,
   "metadata": {},
   "outputs": [
    {
     "ename": "TypeError",
     "evalue": "list indices must be integers or slices, not str",
     "output_type": "error",
     "traceback": [
      "\u001b[0;31m---------------------------------------------------------------------------\u001b[0m",
      "\u001b[0;31mTypeError\u001b[0m                                 Traceback (most recent call last)",
      "\u001b[0;32m<ipython-input-4-bda3aed3e670>\u001b[0m in \u001b[0;36m<module>\u001b[0;34m()\u001b[0m\n\u001b[1;32m      2\u001b[0m \u001b[0mbobs_points\u001b[0m \u001b[0;34m=\u001b[0m \u001b[0;34m[\u001b[0m\u001b[0;36m1\u001b[0m\u001b[0;34m,\u001b[0m\u001b[0;36m1\u001b[0m\u001b[0;34m,\u001b[0m\u001b[0;36m1\u001b[0m\u001b[0;34m,\u001b[0m\u001b[0;36m3\u001b[0m\u001b[0;34m,\u001b[0m\u001b[0;36m3\u001b[0m\u001b[0;34m,\u001b[0m\u001b[0;36m3\u001b[0m\u001b[0;34m]\u001b[0m\u001b[0;34m\u001b[0m\u001b[0m\n\u001b[1;32m      3\u001b[0m \u001b[0;34m\u001b[0m\u001b[0m\n\u001b[0;32m----> 4\u001b[0;31m \u001b[0mBob\u001b[0m \u001b[0;34m=\u001b[0m \u001b[0magents\u001b[0m\u001b[0;34m.\u001b[0m\u001b[0mPerson\u001b[0m\u001b[0;34m(\u001b[0m\u001b[0mbobs_energy\u001b[0m\u001b[0;34m)\u001b[0m\u001b[0;34m\u001b[0m\u001b[0m\n\u001b[0m\u001b[1;32m      5\u001b[0m \u001b[0mBob_energy_output\u001b[0m \u001b[0;34m=\u001b[0m \u001b[0mBob\u001b[0m\u001b[0;34m.\u001b[0m\u001b[0menergy_output_simple_linear\u001b[0m\u001b[0;34m(\u001b[0m\u001b[0mbobs_points\u001b[0m\u001b[0;34m)\u001b[0m\u001b[0;34m\u001b[0m\u001b[0m\n\u001b[1;32m      6\u001b[0m \u001b[0mBob_energy_output\u001b[0m\u001b[0;34m\u001b[0m\u001b[0m\n",
      "\u001b[0;32m~/Documents/Berkeley Files/Research/Deferable Loads/transactive_control/agents.py\u001b[0m in \u001b[0;36m__init__\u001b[0;34m(self, baseline_energy_df, points_multiplier)\u001b[0m\n\u001b[1;32m     14\u001b[0m         \u001b[0;32mdef\u001b[0m \u001b[0m__init__\u001b[0m\u001b[0;34m(\u001b[0m\u001b[0mself\u001b[0m\u001b[0;34m,\u001b[0m \u001b[0mbaseline_energy_df\u001b[0m\u001b[0;34m,\u001b[0m \u001b[0mpoints_multiplier\u001b[0m \u001b[0;34m=\u001b[0m \u001b[0;36m1\u001b[0m\u001b[0;34m)\u001b[0m\u001b[0;34m:\u001b[0m\u001b[0;34m\u001b[0m\u001b[0m\n\u001b[1;32m     15\u001b[0m                 \u001b[0mself\u001b[0m\u001b[0;34m.\u001b[0m\u001b[0mbaseline_energy_df\u001b[0m \u001b[0;34m=\u001b[0m \u001b[0mbaseline_energy_df\u001b[0m\u001b[0;34m\u001b[0m\u001b[0m\n\u001b[0;32m---> 16\u001b[0;31m                 \u001b[0mself\u001b[0m\u001b[0;34m.\u001b[0m\u001b[0mbaseline_energy\u001b[0m \u001b[0;34m=\u001b[0m \u001b[0mself\u001b[0m\u001b[0;34m.\u001b[0m\u001b[0mbaseline_energy_df\u001b[0m\u001b[0;34m[\u001b[0m\u001b[0;34m\"net_energy_use\"\u001b[0m\u001b[0;34m]\u001b[0m\u001b[0;34m\u001b[0m\u001b[0m\n\u001b[0m\u001b[1;32m     17\u001b[0m                 \u001b[0mself\u001b[0m\u001b[0;34m.\u001b[0m\u001b[0mpoints_multiplier\u001b[0m \u001b[0;34m=\u001b[0m \u001b[0mpoints_multiplier\u001b[0m\u001b[0;34m\u001b[0m\u001b[0m\n\u001b[1;32m     18\u001b[0m \u001b[0;34m\u001b[0m\u001b[0m\n",
      "\u001b[0;31mTypeError\u001b[0m: list indices must be integers or slices, not str"
     ]
    }
   ],
   "source": [
    "bobs_energy = [500,560,570,580,480,640]\n",
    "bobs_points = [1,1,1,3,3,3]\n",
    "\n",
    "Bob = agents.Person(bobs_energy)\n",
    "Bob_energy_output = Bob.energy_output_simple_linear(bobs_points)\n",
    "Bob_energy_output"
   ]
  },
  {
   "cell_type": "code",
   "execution_count": null,
   "metadata": {},
   "outputs": [],
   "source": []
  },
  {
   "cell_type": "markdown",
   "metadata": {},
   "source": [
    "## Rewards testing"
   ]
  },
  {
   "cell_type": "code",
   "execution_count": 5,
   "metadata": {},
   "outputs": [],
   "source": [
    "%aimport reward\n",
    "import osqp\n",
    "import cvxopt\n",
    "import numpy as np\n",
    "import pandas as pd"
   ]
  },
  {
   "cell_type": "code",
   "execution_count": 6,
   "metadata": {},
   "outputs": [
    {
     "ename": "NameError",
     "evalue": "name 'Bob_energy_output' is not defined",
     "output_type": "error",
     "traceback": [
      "\u001b[0;31m---------------------------------------------------------------------------\u001b[0m",
      "\u001b[0;31mNameError\u001b[0m                                 Traceback (most recent call last)",
      "\u001b[0;32m<ipython-input-6-a4ffa0570805>\u001b[0m in \u001b[0;36m<module>\u001b[0;34m()\u001b[0m\n\u001b[1;32m      1\u001b[0m \u001b[0mprices\u001b[0m \u001b[0;34m=\u001b[0m \u001b[0;34m[\u001b[0m\u001b[0;36m1\u001b[0m\u001b[0;34m,\u001b[0m\u001b[0;36m1\u001b[0m\u001b[0;34m,\u001b[0m\u001b[0;36m.5\u001b[0m\u001b[0;34m,\u001b[0m\u001b[0;36m.5\u001b[0m\u001b[0;34m,\u001b[0m\u001b[0;36m.3\u001b[0m\u001b[0;34m,\u001b[0m\u001b[0;36m.3\u001b[0m\u001b[0;34m]\u001b[0m\u001b[0;34m\u001b[0m\u001b[0m\n\u001b[1;32m      2\u001b[0m \u001b[0;34m\u001b[0m\u001b[0m\n\u001b[0;32m----> 3\u001b[0;31m \u001b[0mbobs_reward\u001b[0m \u001b[0;34m=\u001b[0m \u001b[0mreward\u001b[0m\u001b[0;34m.\u001b[0m\u001b[0mReward\u001b[0m\u001b[0;34m(\u001b[0m\u001b[0mBob_energy_output\u001b[0m\u001b[0;34m,\u001b[0m \u001b[0mprices\u001b[0m\u001b[0;34m,\u001b[0m \u001b[0;36m100\u001b[0m\u001b[0;34m,\u001b[0m \u001b[0;36m600\u001b[0m\u001b[0;34m)\u001b[0m\u001b[0;34m\u001b[0m\u001b[0m\n\u001b[0m",
      "\u001b[0;31mNameError\u001b[0m: name 'Bob_energy_output' is not defined"
     ]
    }
   ],
   "source": [
    "prices = [1,1,.5,.5,.3,.3]\n",
    "\n",
    "bobs_reward = reward.Reward(Bob_energy_output, prices, 100, 600)"
   ]
  },
  {
   "cell_type": "code",
   "execution_count": null,
   "metadata": {},
   "outputs": [],
   "source": [
    "bobs_ideal_demands= bobs_reward.ideal_use_calculation()"
   ]
  },
  {
   "cell_type": "code",
   "execution_count": 7,
   "metadata": {},
   "outputs": [
    {
     "ename": "NameError",
     "evalue": "name 'bobs_reward' is not defined",
     "output_type": "error",
     "traceback": [
      "\u001b[0;31m---------------------------------------------------------------------------\u001b[0m",
      "\u001b[0;31mNameError\u001b[0m                                 Traceback (most recent call last)",
      "\u001b[0;32m<ipython-input-7-c122ad47a7b0>\u001b[0m in \u001b[0;36m<module>\u001b[0;34m()\u001b[0m\n\u001b[0;32m----> 1\u001b[0;31m \u001b[0mbobs_reward\u001b[0m\u001b[0;34m.\u001b[0m\u001b[0mneg_distance_from_ideal\u001b[0m\u001b[0;34m(\u001b[0m\u001b[0mbobs_ideal_demands\u001b[0m\u001b[0;34m)\u001b[0m\u001b[0;34m\u001b[0m\u001b[0m\n\u001b[0m",
      "\u001b[0;31mNameError\u001b[0m: name 'bobs_reward' is not defined"
     ]
    }
   ],
   "source": [
    "bobs_reward.neg_distance_from_ideal(bobs_ideal_demands)"
   ]
  },
  {
   "cell_type": "markdown",
   "metadata": {},
   "source": [
    "## Testing the setting up of the environment"
   ]
  },
  {
   "cell_type": "code",
   "execution_count": 8,
   "metadata": {},
   "outputs": [
    {
     "name": "stderr",
     "output_type": "stream",
     "text": [
      "/Library/Frameworks/Python.framework/Versions/3.7/lib/python3.7/site-packages/pandas/core/indexing.py:190: SettingWithCopyWarning: \n",
      "A value is trying to be set on a copy of a slice from a DataFrame\n",
      "\n",
      "See the caveats in the documentation: http://pandas.pydata.org/pandas-docs/stable/indexing.html#indexing-view-versus-copy\n",
      "  self._setitem_with_indexer(indexer, value)\n"
     ]
    }
   ],
   "source": [
    "baseline_energy1 = pd.read_csv(\"wg1.txt\", sep = \"\\t\")\n",
    "baseline_energy1[\"net_energy_use\"] = baseline_energy1[\"TOTAL_ENERGY_DESK_TODAY\"].diff()\n",
    "baseline_energy1.net_energy_use.loc[baseline_energy1.net_energy_use<0] = 0"
   ]
  },
  {
   "cell_type": "code",
   "execution_count": 9,
   "metadata": {},
   "outputs": [
    {
     "data": {
      "text/html": [
       "<div>\n",
       "<style scoped>\n",
       "    .dataframe tbody tr th:only-of-type {\n",
       "        vertical-align: middle;\n",
       "    }\n",
       "\n",
       "    .dataframe tbody tr th {\n",
       "        vertical-align: top;\n",
       "    }\n",
       "\n",
       "    .dataframe thead th {\n",
       "        text-align: right;\n",
       "    }\n",
       "</style>\n",
       "<table border=\"1\" class=\"dataframe\">\n",
       "  <thead>\n",
       "    <tr style=\"text-align: right;\">\n",
       "      <th></th>\n",
       "      <th>Id</th>\n",
       "      <th>TimeStamp</th>\n",
       "      <th>WG_1_DSK_3</th>\n",
       "      <th>TOTAL_ENERGY_DESK_TODAY</th>\n",
       "      <th>net_energy_use</th>\n",
       "    </tr>\n",
       "  </thead>\n",
       "  <tbody>\n",
       "    <tr>\n",
       "      <th>0</th>\n",
       "      <td>1</td>\n",
       "      <td>7/30/2018 12:00:00 AM</td>\n",
       "      <td>DESK-3</td>\n",
       "      <td>383.3700</td>\n",
       "      <td>NaN</td>\n",
       "    </tr>\n",
       "    <tr>\n",
       "      <th>1</th>\n",
       "      <td>2</td>\n",
       "      <td>7/30/2018 12:15:00 AM</td>\n",
       "      <td>DESK-3</td>\n",
       "      <td>387.7375</td>\n",
       "      <td>4.3675</td>\n",
       "    </tr>\n",
       "    <tr>\n",
       "      <th>2</th>\n",
       "      <td>3</td>\n",
       "      <td>7/30/2018 12:30:00 AM</td>\n",
       "      <td>DESK-3</td>\n",
       "      <td>392.1050</td>\n",
       "      <td>4.3675</td>\n",
       "    </tr>\n",
       "    <tr>\n",
       "      <th>3</th>\n",
       "      <td>4</td>\n",
       "      <td>7/30/2018 12:45:00 AM</td>\n",
       "      <td>DESK-3</td>\n",
       "      <td>396.4725</td>\n",
       "      <td>4.3675</td>\n",
       "    </tr>\n",
       "    <tr>\n",
       "      <th>4</th>\n",
       "      <td>5</td>\n",
       "      <td>7/30/2018 1:00:00 AM</td>\n",
       "      <td>DESK-3</td>\n",
       "      <td>400.8400</td>\n",
       "      <td>4.3675</td>\n",
       "    </tr>\n",
       "  </tbody>\n",
       "</table>\n",
       "</div>"
      ],
      "text/plain": [
       "   Id              TimeStamp WG_1_DSK_3  TOTAL_ENERGY_DESK_TODAY  \\\n",
       "0   1  7/30/2018 12:00:00 AM     DESK-3                 383.3700   \n",
       "1   2  7/30/2018 12:15:00 AM     DESK-3                 387.7375   \n",
       "2   3  7/30/2018 12:30:00 AM     DESK-3                 392.1050   \n",
       "3   4  7/30/2018 12:45:00 AM     DESK-3                 396.4725   \n",
       "4   5   7/30/2018 1:00:00 AM     DESK-3                 400.8400   \n",
       "\n",
       "   net_energy_use  \n",
       "0             NaN  \n",
       "1          4.3675  \n",
       "2          4.3675  \n",
       "3          4.3675  \n",
       "4          4.3675  "
      ]
     },
     "execution_count": 9,
     "metadata": {},
     "output_type": "execute_result"
    }
   ],
   "source": [
    "baseline_energy1.head()"
   ]
  },
  {
   "cell_type": "code",
   "execution_count": 10,
   "metadata": {},
   "outputs": [
    {
     "data": {
      "text/plain": [
       "1   2018-07-30 00:15:00\n",
       "2   2018-07-30 00:30:00\n",
       "3   2018-07-30 00:45:00\n",
       "4   2018-07-30 01:00:00\n",
       "Name: TimeStamp, dtype: datetime64[ns]"
      ]
     },
     "execution_count": 10,
     "metadata": {},
     "output_type": "execute_result"
    }
   ],
   "source": [
    "from datetime import datetime\n",
    "\n",
    "baseline_energy1[\"TimeStamp\"] = pd.to_datetime(baseline_energy1.TimeStamp)\n",
    "baseline_energy1.TimeStamp[1:5]"
   ]
  },
  {
   "cell_type": "code",
   "execution_count": null,
   "metadata": {},
   "outputs": [],
   "source": [
    "temp_df = baseline_energy1\n",
    "temp_df[\"month\"] = [str(t.month) if t.month>9 else \\\n",
    "    \"0\" + str(t.month) for t in baseline_energy1[\"TimeStamp\"]]\n",
    "temp_df[\"year\"] = [str(t.year) for t in baseline_energy1[\"TimeStamp\"]]\n",
    "temp_df[\"hour\"] = [str(t.hour) if t.hour>9 else \\\n",
    "    \"0\" + str(t.hour) for t in baseline_energy1[\"TimeStamp\"]]\n",
    "temp_df[\"day\"] = [str(t.day) if t.day>9 else \\\n",
    "    \"0\" + str(t.day) for t in baseline_energy1[\"TimeStamp\"]]\n",
    "baseline_energy1[\"date_hour\"] =  (temp_df[['year', 'month',\"day\", \"hour\"]]\n",
    "                                  .apply(lambda x: ''.join(x), axis=1))"
   ]
  },
  {
   "cell_type": "code",
   "execution_count": null,
   "metadata": {},
   "outputs": [],
   "source": [
    "b_grouped = baseline_energy1.groupby(\"date_hour\")\n",
    "# for name, group in b_grouped:\n",
    "#     print(name)\n",
    "#     print(group)\n",
    "\n",
    "final = b_grouped.agg({\"Id\":\"first\",\n",
    "              \"TimeStamp\": \"first\",\n",
    "              \"WG_1_DSK_3\": \"first\",\n",
    "              \"TOTAL_ENERGY_DESK_TODAY\":\"first\",\n",
    "              \"net_energy_use\":\"sum\"})"
   ]
  },
  {
   "cell_type": "code",
   "execution_count": null,
   "metadata": {},
   "outputs": [],
   "source": [
    "%matplotlib inline\n",
    "\n",
    "baseline_energy1.hist(\"net_energy_use\", bins =100)"
   ]
  },
  {
   "cell_type": "code",
   "execution_count": null,
   "metadata": {},
   "outputs": [],
   "source": [
    "%aimport utils"
   ]
  },
  {
   "cell_type": "code",
   "execution_count": null,
   "metadata": {},
   "outputs": [],
   "source": [
    "baseline_energy1 = pd.read_csv(\"wg1.txt\", sep = \"\\t\")\n",
    "baseline_energy2 = pd.read_csv(\"wg2.txt\", sep = \"\\t\")\n",
    "baseline_energy3 = pd.read_csv(\"wg3.txt\", sep = \"\\t\")\n",
    "\n",
    "be1 = utils.change_wg_into_diff(baseline_energy1)\n",
    "be2 = utils.change_wg_into_diff(baseline_energy2)\n",
    "be3 = utils.change_wg_into_diff(baseline_energy3)"
   ]
  },
  {
   "cell_type": "code",
   "execution_count": null,
   "metadata": {},
   "outputs": [],
   "source": [
    "be2.head()[\"net_energy_use\"]"
   ]
  },
  {
   "cell_type": "code",
   "execution_count": null,
   "metadata": {},
   "outputs": [],
   "source": [
    "be2[1:1000].plot(x=\"TimeStamp\", y=\"net_energy_use\")"
   ]
  },
  {
   "cell_type": "markdown",
   "metadata": {},
   "source": [
    "\n",
    "\n",
    "## Test the pricing function"
   ]
  },
  {
   "cell_type": "code",
   "execution_count": 30,
   "metadata": {},
   "outputs": [
    {
     "data": {
      "text/plain": [
       "<module 'controller' from '/Users/lucas.spangher/Documents/Berkeley Files/Research/Deferable Loads/transactive_control/controller.py'>"
      ]
     },
     "execution_count": 30,
     "metadata": {},
     "output_type": "execute_result"
    }
   ],
   "source": [
    "import simulation\n",
    "import controller\n",
    "\n",
    "import importlib\n",
    "importlib.reload(simulation)\n",
    "importlib.reload(controller)\n"
   ]
  },
  {
   "cell_type": "code",
   "execution_count": 31,
   "metadata": {},
   "outputs": [
    {
     "name": "stdout",
     "output_type": "stream",
     "text": [
      "creating agents\n"
     ]
    },
    {
     "name": "stderr",
     "output_type": "stream",
     "text": [
      "/Library/Frameworks/Python.framework/Versions/3.7/lib/python3.7/site-packages/pandas/core/indexing.py:190: SettingWithCopyWarning: \n",
      "A value is trying to be set on a copy of a slice from a DataFrame\n",
      "\n",
      "See the caveats in the documentation: http://pandas.pydata.org/pandas-docs/stable/indexing.html#indexing-view-versus-copy\n",
      "  self._setitem_with_indexer(indexer, value)\n"
     ]
    },
    {
     "name": "stdout",
     "output_type": "stream",
     "text": [
      "creating controller\n"
     ]
    }
   ],
   "source": [
    "office=simulation.Office()"
   ]
  },
  {
   "cell_type": "code",
   "execution_count": 32,
   "metadata": {},
   "outputs": [
    {
     "name": "stdout",
     "output_type": "stream",
     "text": [
      "The problem is QP:  True\n",
      "-----------------------------------------------------------------\n",
      "           OSQP v0.6.0  -  Operator Splitting QP Solver\n",
      "              (c) Bartolomeo Stellato,  Goran Banjac\n",
      "        University of Oxford  -  Stanford University 2019\n",
      "-----------------------------------------------------------------\n",
      "problem:  variables n = 24, constraints m = 49\n",
      "          nnz(P) + nnz(A) = 72\n",
      "settings: linear system solver = qdldl,\n",
      "          eps_abs = 1.0e-05, eps_rel = 1.0e-05,\n",
      "          eps_prim_inf = 1.0e-04, eps_dual_inf = 1.0e-04,\n",
      "          rho = 1.00e-01 (adaptive),\n",
      "          sigma = 1.00e-06, alpha = 1.60, max_iter = 10000\n",
      "          check_termination: on (interval 25),\n",
      "          scaling: on, scaled_termination: off\n",
      "          warm start: on, polish: on, time_limit: off\n",
      "\n",
      "iter   objective    pri res    dua res    rho        time\n",
      "   1  -5.1602e+00   1.17e+03   3.56e+04   1.00e-01   8.59e-05s\n",
      " 200   1.1585e+02   7.48e-02   1.01e-04   5.34e-04   3.01e-04s\n",
      " 400   1.1572e+02   2.90e-01   2.03e-06   5.69e-05   8.35e-04s\n",
      " 600   1.1585e+02   5.42e-02   3.32e-05   3.48e-04   1.05e-03s\n",
      " 800   1.1582e+02   1.20e-02   8.25e-05   4.34e-04   1.26e-03s\n",
      "1000   1.1579e+02   9.04e-02   1.50e-05   8.47e-05   1.49e-03s\n",
      "1125   1.1583e+02   8.26e-03   9.33e-06   8.47e-05   1.66e-03s\n",
      "plsh   1.1583e+02   7.86e-22   8.56e-15   --------   1.75e-03s\n",
      "\n",
      "status:               solved\n",
      "solution polish:      successful\n",
      "number of iterations: 1125\n",
      "optimal objective:    115.8268\n",
      "run time:             1.75e-03s\n",
      "optimal rho estimate: 4.08e-05\n",
      "\n",
      "The problem is QP:  True\n",
      "-----------------------------------------------------------------\n",
      "           OSQP v0.6.0  -  Operator Splitting QP Solver\n",
      "              (c) Bartolomeo Stellato,  Goran Banjac\n",
      "        University of Oxford  -  Stanford University 2019\n",
      "-----------------------------------------------------------------\n",
      "problem:  variables n = 24, constraints m = 49\n",
      "          nnz(P) + nnz(A) = 72\n",
      "settings: linear system solver = qdldl,\n",
      "          eps_abs = 1.0e-05, eps_rel = 1.0e-05,\n",
      "          eps_prim_inf = 1.0e-04, eps_dual_inf = 1.0e-04,\n",
      "          rho = 1.00e-01 (adaptive),\n",
      "          sigma = 1.00e-06, alpha = 1.60, max_iter = 10000\n",
      "          check_termination: on (interval 25),\n",
      "          scaling: on, scaled_termination: off\n",
      "          warm start: on, polish: on, time_limit: off\n",
      "\n",
      "iter   objective    pri res    dua res    rho        time\n",
      "   1  -5.1602e+00   1.15e+03   3.51e+04   1.00e-01   8.39e-05s\n",
      " 200   1.1255e+02   2.41e-01   5.66e-05   2.64e-04   3.00e-04s\n",
      " 400   1.1245e+02   2.81e-02   3.40e-05   2.64e-04   5.11e-04s\n",
      " 600   1.1237e+02   2.45e-01   8.63e-05   8.76e-05   7.24e-04s\n",
      " 800   1.1251e+02   1.37e-01   6.75e-06   8.76e-05   9.58e-04s\n",
      " 900   1.1246e+02   1.07e-02   1.30e-05   8.76e-05   1.10e-03s\n",
      "plsh   1.1246e+02   3.94e-22   8.56e-15   --------   1.20e-03s\n",
      "\n",
      "status:               solved\n",
      "solution polish:      successful\n",
      "number of iterations: 900\n",
      "optimal objective:    112.4599\n",
      "run time:             1.20e-03s\n",
      "optimal rho estimate: 4.10e-05\n",
      "\n",
      "The problem is QP:  True\n",
      "-----------------------------------------------------------------\n",
      "           OSQP v0.6.0  -  Operator Splitting QP Solver\n",
      "              (c) Bartolomeo Stellato,  Goran Banjac\n",
      "        University of Oxford  -  Stanford University 2019\n",
      "-----------------------------------------------------------------\n",
      "problem:  variables n = 24, constraints m = 49\n",
      "          nnz(P) + nnz(A) = 72\n",
      "settings: linear system solver = qdldl,\n",
      "          eps_abs = 1.0e-05, eps_rel = 1.0e-05,\n",
      "          eps_prim_inf = 1.0e-04, eps_dual_inf = 1.0e-04,\n",
      "          rho = 1.00e-01 (adaptive),\n",
      "          sigma = 1.00e-06, alpha = 1.60, max_iter = 10000\n",
      "          check_termination: on (interval 25),\n",
      "          scaling: on, scaled_termination: off\n",
      "          warm start: on, polish: on, time_limit: off\n",
      "\n",
      "iter   objective    pri res    dua res    rho        time\n",
      "   1  -5.1602e+00   1.15e+03   3.50e+04   1.00e-01   8.12e-05s\n",
      " 200   1.1144e+02   1.74e-01   4.42e-05   3.98e-04   2.96e-04s\n",
      " 400   1.1131e+02   1.90e-01   2.18e-05   4.02e-04   5.07e-04s\n",
      " 600   1.1130e+02   1.09e+00   1.94e-04   7.58e-04   7.19e-04s\n",
      " 800   1.1139e+02   3.94e-02   4.67e-05   1.38e-04   9.51e-04s\n",
      "1000   1.1139e+02   2.31e-02   1.08e-05   1.38e-04   1.19e-03s\n",
      "1125   1.1138e+02   2.74e-03   5.41e-06   1.38e-04   1.35e-03s\n",
      "plsh   1.1138e+02   2.77e-22   8.56e-15   --------   1.45e-03s\n",
      "\n",
      "status:               solved\n",
      "solution polish:      successful\n",
      "number of iterations: 1125\n",
      "optimal objective:    111.3796\n",
      "run time:             1.45e-03s\n",
      "optimal rho estimate: 5.08e-05\n",
      "\n",
      "The problem is QP:  True\n",
      "-----------------------------------------------------------------\n",
      "           OSQP v0.6.0  -  Operator Splitting QP Solver\n",
      "              (c) Bartolomeo Stellato,  Goran Banjac\n",
      "        University of Oxford  -  Stanford University 2019\n",
      "-----------------------------------------------------------------\n",
      "problem:  variables n = 24, constraints m = 49\n",
      "          nnz(P) + nnz(A) = 72\n",
      "settings: linear system solver = qdldl,\n",
      "          eps_abs = 1.0e-05, eps_rel = 1.0e-05,\n",
      "          eps_prim_inf = 1.0e-04, eps_dual_inf = 1.0e-04,\n",
      "          rho = 1.00e-01 (adaptive),\n",
      "          sigma = 1.00e-06, alpha = 1.60, max_iter = 10000\n",
      "          check_termination: on (interval 25),\n",
      "          scaling: on, scaled_termination: off\n",
      "          warm start: on, polish: on, time_limit: off\n",
      "\n",
      "iter   objective    pri res    dua res    rho        time\n",
      "   1  -5.1602e+00   5.84e+02   1.78e+04   1.00e-01   7.29e-05s\n",
      " 200   6.8327e+01   2.61e-02   8.15e-05   7.44e-04   2.73e-04s\n",
      " 400   6.8311e+01   1.41e-02   9.64e-06   7.44e-04   5.08e-04s\n",
      " 475   6.8315e+01   4.85e-03   1.21e-05   7.44e-04   6.19e-04s\n",
      "plsh   6.8317e+01   0.00e+00   2.51e-15   --------   7.00e-04s\n",
      "\n",
      "status:               solved\n",
      "solution polish:      successful\n",
      "number of iterations: 475\n",
      "optimal objective:    68.3168\n",
      "run time:             7.00e-04s\n",
      "optimal rho estimate: 3.40e-04\n",
      "\n",
      "The problem is QP:  True\n",
      "-----------------------------------------------------------------\n",
      "           OSQP v0.6.0  -  Operator Splitting QP Solver\n",
      "              (c) Bartolomeo Stellato,  Goran Banjac\n",
      "        University of Oxford  -  Stanford University 2019\n",
      "-----------------------------------------------------------------\n",
      "problem:  variables n = 24, constraints m = 49\n",
      "          nnz(P) + nnz(A) = 72\n",
      "settings: linear system solver = qdldl,\n",
      "          eps_abs = 1.0e-05, eps_rel = 1.0e-05,\n",
      "          eps_prim_inf = 1.0e-04, eps_dual_inf = 1.0e-04,\n",
      "          rho = 1.00e-01 (adaptive),\n",
      "          sigma = 1.00e-06, alpha = 1.60, max_iter = 10000\n",
      "          check_termination: on (interval 25),\n",
      "          scaling: on, scaled_termination: off\n",
      "          warm start: on, polish: on, time_limit: off\n",
      "\n",
      "iter   objective    pri res    dua res    rho        time\n",
      "   1  -5.1602e+00   5.78e+02   1.77e+04   1.00e-01   8.09e-05s\n",
      " 200   6.7120e+01   1.67e-02   1.42e-04   9.54e-04   2.96e-04s\n",
      " 400   6.7162e+01   9.42e-02   2.97e-07   2.75e-05   5.08e-04s\n",
      " 600   6.7120e+01   1.52e-02   1.46e-05   3.56e-04   7.19e-04s\n",
      " 650   6.7128e+01   5.59e-03   1.24e-05   3.56e-04   8.47e-04s\n",
      "plsh   6.7126e+01   0.00e+00   2.75e-15   --------   9.42e-04s\n",
      "\n",
      "status:               solved\n",
      "solution polish:      successful\n",
      "number of iterations: 650\n",
      "optimal objective:    67.1260\n",
      "run time:             9.42e-04s\n",
      "optimal rho estimate: 1.73e-04\n",
      "\n",
      "The problem is QP:  True\n",
      "-----------------------------------------------------------------\n",
      "           OSQP v0.6.0  -  Operator Splitting QP Solver\n",
      "              (c) Bartolomeo Stellato,  Goran Banjac\n",
      "        University of Oxford  -  Stanford University 2019\n",
      "-----------------------------------------------------------------\n",
      "problem:  variables n = 24, constraints m = 49\n",
      "          nnz(P) + nnz(A) = 72\n",
      "settings: linear system solver = qdldl,\n",
      "          eps_abs = 1.0e-05, eps_rel = 1.0e-05,\n",
      "          eps_prim_inf = 1.0e-04, eps_dual_inf = 1.0e-04,\n",
      "          rho = 1.00e-01 (adaptive),\n",
      "          sigma = 1.00e-06, alpha = 1.60, max_iter = 10000\n",
      "          check_termination: on (interval 25),\n",
      "          scaling: on, scaled_termination: off\n",
      "          warm start: on, polish: on, time_limit: off\n",
      "\n",
      "iter   objective    pri res    dua res    rho        time\n",
      "   1  -5.1602e+00   3.33e+03   1.02e+05   1.00e-01   1.10e-04s\n",
      " 200   5.0634e+02   5.73e-01   1.18e-05   4.76e-05   3.28e-04s\n",
      " 400   5.0527e+02   1.15e-01   1.02e-05   4.76e-05   5.39e-04s\n",
      " 450   5.0548e+02   2.04e-02   1.07e-05   4.76e-05   7.24e-04s\n",
      "plsh   5.0545e+02   4.55e-13   8.17e-14   --------   8.32e-04s\n",
      "\n",
      "status:               solved\n",
      "solution polish:      successful\n",
      "number of iterations: 450\n",
      "optimal objective:    505.4520\n",
      "run time:             8.32e-04s\n",
      "optimal rho estimate: 1.99e-05\n",
      "\n",
      "The problem is QP:  True\n",
      "-----------------------------------------------------------------\n",
      "           OSQP v0.6.0  -  Operator Splitting QP Solver\n",
      "              (c) Bartolomeo Stellato,  Goran Banjac\n",
      "        University of Oxford  -  Stanford University 2019\n",
      "-----------------------------------------------------------------\n",
      "problem:  variables n = 24, constraints m = 49\n",
      "          nnz(P) + nnz(A) = 72\n",
      "settings: linear system solver = qdldl,\n",
      "          eps_abs = 1.0e-05, eps_rel = 1.0e-05,\n",
      "          eps_prim_inf = 1.0e-04, eps_dual_inf = 1.0e-04,\n",
      "          rho = 1.00e-01 (adaptive),\n",
      "          sigma = 1.00e-06, alpha = 1.60, max_iter = 10000\n",
      "          check_termination: on (interval 25),\n",
      "          scaling: on, scaled_termination: off\n",
      "          warm start: on, polish: on, time_limit: off\n",
      "\n",
      "iter   objective    pri res    dua res    rho        time\n",
      "   1  -5.1602e+00   3.33e+03   1.02e+05   1.00e-01   7.40e-05s\n",
      " 200   5.0696e+02   5.80e-01   7.25e-06   4.47e-05   2.76e-04s\n",
      " 400   5.0590e+02   1.06e-01   1.05e-05   4.47e-05   4.70e-04s\n",
      " 425   5.0602e+02   3.08e-02   1.18e-05   4.47e-05   5.48e-04s\n",
      "plsh   5.0606e+02   0.00e+00   6.52e-14   --------   6.58e-04s\n",
      "\n",
      "status:               solved\n",
      "solution polish:      successful\n",
      "number of iterations: 425\n",
      "optimal objective:    506.0642\n",
      "run time:             6.58e-04s\n",
      "optimal rho estimate: 2.19e-05\n",
      "\n",
      "----total_distance----\n",
      "-115017912.27301073\n"
     ]
    },
    {
     "data": {
      "text/plain": [
       "(-115017912.27301073, True)"
      ]
     },
     "execution_count": 32,
     "metadata": {},
     "output_type": "execute_result"
    }
   ],
   "source": [
    "p = office.price_signal(1)\n",
    "office.step(p)"
   ]
  },
  {
   "cell_type": "code",
   "execution_count": null,
   "metadata": {},
   "outputs": [],
   "source": [
    "con = controller.BaseController()\n",
    "points = con.get_points(p)\n",
    "pd.DataFrame(points).iloc[0]"
   ]
  },
  {
   "cell_type": "code",
   "execution_count": null,
   "metadata": {},
   "outputs": [],
   "source": []
  }
 ],
 "metadata": {
  "kernelspec": {
   "display_name": "Python 3",
   "language": "python",
   "name": "python3"
  },
  "language_info": {
   "codemirror_mode": {
    "name": "ipython",
    "version": 3
   },
   "file_extension": ".py",
   "mimetype": "text/x-python",
   "name": "python",
   "nbconvert_exporter": "python",
   "pygments_lexer": "ipython3",
   "version": "3.7.5"
  }
 },
 "nbformat": 4,
 "nbformat_minor": 2
}
