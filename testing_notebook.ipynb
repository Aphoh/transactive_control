{
 "cells": [
  {
   "cell_type": "markdown",
   "metadata": {},
   "source": [
    "# The purpose of this notebook is to test the functions in the various files. It's like a unittest code but I don't know how to do that so I'm doing this instead. "
   ]
  },
  {
   "cell_type": "code",
   "execution_count": 1,
   "metadata": {},
   "outputs": [],
   "source": [
    "import sys\n",
    "import importlib\n",
    "sys.path.append('.')\n",
    "\n",
    "%load_ext autoreload\n",
    "%autoreload 1"
   ]
  },
  {
   "cell_type": "markdown",
   "metadata": {},
   "source": [
    "## Agents.py testing "
   ]
  },
  {
   "cell_type": "code",
   "execution_count": 2,
   "metadata": {},
   "outputs": [],
   "source": [
    "%aimport agents"
   ]
  },
  {
   "cell_type": "code",
   "execution_count": 3,
   "metadata": {},
   "outputs": [
    {
     "data": {
      "text/plain": [
       "<module 'agents' from '/Users/lucas.spangher/Documents/Berkeley Files/Research/Deferable Loads/transactive_control/agents.py'>"
      ]
     },
     "execution_count": 3,
     "metadata": {},
     "output_type": "execute_result"
    }
   ],
   "source": [
    "importlib.reload(agents)"
   ]
  },
  {
   "cell_type": "code",
   "execution_count": 4,
   "metadata": {},
   "outputs": [
    {
     "data": {
      "text/html": [
       "<div>\n",
       "<style scoped>\n",
       "    .dataframe tbody tr th:only-of-type {\n",
       "        vertical-align: middle;\n",
       "    }\n",
       "\n",
       "    .dataframe tbody tr th {\n",
       "        vertical-align: top;\n",
       "    }\n",
       "\n",
       "    .dataframe thead th {\n",
       "        text-align: right;\n",
       "    }\n",
       "</style>\n",
       "<table border=\"1\" class=\"dataframe\">\n",
       "  <thead>\n",
       "    <tr style=\"text-align: right;\">\n",
       "      <th></th>\n",
       "      <th>0</th>\n",
       "    </tr>\n",
       "  </thead>\n",
       "  <tbody>\n",
       "    <tr>\n",
       "      <th>0</th>\n",
       "      <td>500.076737</td>\n",
       "    </tr>\n",
       "    <tr>\n",
       "      <th>1</th>\n",
       "      <td>558.639654</td>\n",
       "    </tr>\n",
       "    <tr>\n",
       "      <th>2</th>\n",
       "      <td>569.520228</td>\n",
       "    </tr>\n",
       "    <tr>\n",
       "      <th>3</th>\n",
       "      <td>579.161296</td>\n",
       "    </tr>\n",
       "    <tr>\n",
       "      <th>4</th>\n",
       "      <td>479.603782</td>\n",
       "    </tr>\n",
       "    <tr>\n",
       "      <th>5</th>\n",
       "      <td>638.499831</td>\n",
       "    </tr>\n",
       "  </tbody>\n",
       "</table>\n",
       "</div>"
      ],
      "text/plain": [
       "            0\n",
       "0  500.076737\n",
       "1  558.639654\n",
       "2  569.520228\n",
       "3  579.161296\n",
       "4  479.603782\n",
       "5  638.499831"
      ]
     },
     "execution_count": 4,
     "metadata": {},
     "output_type": "execute_result"
    }
   ],
   "source": [
    "bobs_energy = [500,560,570,580,480,640]\n",
    "bobs_points = [1,1,1,3,3,3]\n",
    "\n",
    "Bob = agents.Person(bobs_energy)\n",
    "Bob_energy_output = Bob.energy_output_simple_linear(bobs_points)\n",
    "Bob_energy_output"
   ]
  },
  {
   "cell_type": "code",
   "execution_count": null,
   "metadata": {},
   "outputs": [],
   "source": []
  },
  {
   "cell_type": "markdown",
   "metadata": {},
   "source": [
    "## Rewards testing"
   ]
  },
  {
   "cell_type": "code",
   "execution_count": 29,
   "metadata": {},
   "outputs": [],
   "source": [
    "%aimport reward\n",
    "import osqp\n",
    "import cvxopt\n",
    "import numpy as np\n",
    "import pandas as pd"
   ]
  },
  {
   "cell_type": "code",
   "execution_count": 23,
   "metadata": {},
   "outputs": [],
   "source": [
    "prices = [1,1,.5,.5,.3,.3]\n",
    "\n",
    "bobs_reward = reward.Reward(Bob_energy_output, prices, 100, 600)"
   ]
  },
  {
   "cell_type": "code",
   "execution_count": 25,
   "metadata": {},
   "outputs": [
    {
     "name": "stdout",
     "output_type": "stream",
     "text": [
      "The problem is QP:  True\n",
      "-----------------------------------------------------------------\n",
      "           OSQP v0.6.0  -  Operator Splitting QP Solver\n",
      "              (c) Bartolomeo Stellato,  Goran Banjac\n",
      "        University of Oxford  -  Stanford University 2019\n",
      "-----------------------------------------------------------------\n",
      "problem:  variables n = 6, constraints m = 13\n",
      "          nnz(P) + nnz(A) = 18\n",
      "settings: linear system solver = qdldl,\n",
      "          eps_abs = 1.0e-05, eps_rel = 1.0e-05,\n",
      "          eps_prim_inf = 1.0e-04, eps_dual_inf = 1.0e-04,\n",
      "          rho = 1.00e-01 (adaptive),\n",
      "          sigma = 1.00e-06, alpha = 1.60, max_iter = 10000\n",
      "          check_termination: on (interval 25),\n",
      "          scaling: on, scaled_termination: off\n",
      "          warm start: on, polish: on, time_limit: off\n",
      "\n",
      "iter   objective    pri res    dua res    rho        time\n",
      "   1  -4.1657e+00   3.33e+03   3.33e+05   1.00e-01   5.37e-05s\n",
      " 200   1.8855e+03   1.18e-02   1.46e-05   2.99e-04   1.78e-04s\n",
      "plsh   1.8855e+03   0.00e+00   4.55e-14   --------   2.98e-04s\n",
      "\n",
      "status:               solved\n",
      "solution polish:      successful\n",
      "number of iterations: 200\n",
      "optimal objective:    1885.5015\n",
      "run time:             2.98e-04s\n",
      "optimal rho estimate: 1.48e-04\n",
      "\n"
     ]
    }
   ],
   "source": [
    "bobs_ideal_demands= bobs_reward.ideal_use_calculation()"
   ]
  },
  {
   "cell_type": "code",
   "execution_count": 27,
   "metadata": {},
   "outputs": [
    {
     "data": {
      "text/plain": [
       "-249565.957312918"
      ]
     },
     "execution_count": 27,
     "metadata": {},
     "output_type": "execute_result"
    }
   ],
   "source": [
    "bobs_reward.neg_distance_from_ideal(bobs_ideal_demands)"
   ]
  },
  {
   "cell_type": "markdown",
   "metadata": {},
   "source": [
    "## Testing the simulation environment"
   ]
  },
  {
   "cell_type": "code",
   "execution_count": 127,
   "metadata": {},
   "outputs": [
    {
     "name": "stderr",
     "output_type": "stream",
     "text": [
      "/Library/Frameworks/Python.framework/Versions/3.7/lib/python3.7/site-packages/pandas/core/indexing.py:190: SettingWithCopyWarning: \n",
      "A value is trying to be set on a copy of a slice from a DataFrame\n",
      "\n",
      "See the caveats in the documentation: http://pandas.pydata.org/pandas-docs/stable/indexing.html#indexing-view-versus-copy\n",
      "  self._setitem_with_indexer(indexer, value)\n"
     ]
    }
   ],
   "source": [
    "baseline_energy1 = pd.read_csv(\"wg1.txt\", sep = \"\\t\")\n",
    "baseline_energy1[\"net_energy_use\"] = baseline_energy1[\"TOTAL_ENERGY_DESK_TODAY\"].diff()\n",
    "baseline_energy1.net_energy_use.loc[baseline_energy1.net_energy_use<0] = 0"
   ]
  },
  {
   "cell_type": "code",
   "execution_count": 65,
   "metadata": {},
   "outputs": [
    {
     "data": {
      "text/html": [
       "<div>\n",
       "<style scoped>\n",
       "    .dataframe tbody tr th:only-of-type {\n",
       "        vertical-align: middle;\n",
       "    }\n",
       "\n",
       "    .dataframe tbody tr th {\n",
       "        vertical-align: top;\n",
       "    }\n",
       "\n",
       "    .dataframe thead th {\n",
       "        text-align: right;\n",
       "    }\n",
       "</style>\n",
       "<table border=\"1\" class=\"dataframe\">\n",
       "  <thead>\n",
       "    <tr style=\"text-align: right;\">\n",
       "      <th></th>\n",
       "      <th>Id</th>\n",
       "      <th>TimeStamp</th>\n",
       "      <th>WG_1_DSK_3</th>\n",
       "      <th>TOTAL_ENERGY_DESK_TODAY</th>\n",
       "      <th>net_energy_use</th>\n",
       "    </tr>\n",
       "  </thead>\n",
       "  <tbody>\n",
       "    <tr>\n",
       "      <th>0</th>\n",
       "      <td>1</td>\n",
       "      <td>7/30/2018 12:00:00 AM</td>\n",
       "      <td>DESK-3</td>\n",
       "      <td>383.3700</td>\n",
       "      <td>NaN</td>\n",
       "    </tr>\n",
       "    <tr>\n",
       "      <th>1</th>\n",
       "      <td>2</td>\n",
       "      <td>7/30/2018 12:15:00 AM</td>\n",
       "      <td>DESK-3</td>\n",
       "      <td>387.7375</td>\n",
       "      <td>4.3675</td>\n",
       "    </tr>\n",
       "    <tr>\n",
       "      <th>2</th>\n",
       "      <td>3</td>\n",
       "      <td>7/30/2018 12:30:00 AM</td>\n",
       "      <td>DESK-3</td>\n",
       "      <td>392.1050</td>\n",
       "      <td>4.3675</td>\n",
       "    </tr>\n",
       "    <tr>\n",
       "      <th>3</th>\n",
       "      <td>4</td>\n",
       "      <td>7/30/2018 12:45:00 AM</td>\n",
       "      <td>DESK-3</td>\n",
       "      <td>396.4725</td>\n",
       "      <td>4.3675</td>\n",
       "    </tr>\n",
       "    <tr>\n",
       "      <th>4</th>\n",
       "      <td>5</td>\n",
       "      <td>7/30/2018 1:00:00 AM</td>\n",
       "      <td>DESK-3</td>\n",
       "      <td>400.8400</td>\n",
       "      <td>4.3675</td>\n",
       "    </tr>\n",
       "  </tbody>\n",
       "</table>\n",
       "</div>"
      ],
      "text/plain": [
       "   Id              TimeStamp WG_1_DSK_3  TOTAL_ENERGY_DESK_TODAY  \\\n",
       "0   1  7/30/2018 12:00:00 AM     DESK-3                 383.3700   \n",
       "1   2  7/30/2018 12:15:00 AM     DESK-3                 387.7375   \n",
       "2   3  7/30/2018 12:30:00 AM     DESK-3                 392.1050   \n",
       "3   4  7/30/2018 12:45:00 AM     DESK-3                 396.4725   \n",
       "4   5   7/30/2018 1:00:00 AM     DESK-3                 400.8400   \n",
       "\n",
       "   net_energy_use  \n",
       "0             NaN  \n",
       "1          4.3675  \n",
       "2          4.3675  \n",
       "3          4.3675  \n",
       "4          4.3675  "
      ]
     },
     "execution_count": 65,
     "metadata": {},
     "output_type": "execute_result"
    }
   ],
   "source": [
    "baseline_energy1.head()"
   ]
  },
  {
   "cell_type": "code",
   "execution_count": 93,
   "metadata": {},
   "outputs": [
    {
     "data": {
      "text/plain": [
       "1   2018-07-30 00:15:00\n",
       "2   2018-07-30 00:30:00\n",
       "3   2018-07-30 00:45:00\n",
       "4   2018-07-30 01:00:00\n",
       "Name: TimeStamp, dtype: datetime64[ns]"
      ]
     },
     "execution_count": 93,
     "metadata": {},
     "output_type": "execute_result"
    }
   ],
   "source": [
    "from datetime import datetime\n",
    "\n",
    "baseline_energy1[\"TimeStamp\"] = pd.to_datetime(baseline_energy1.TimeStamp)\n",
    "baseline_energy1.TimeStamp[1:5]"
   ]
  },
  {
   "cell_type": "code",
   "execution_count": 114,
   "metadata": {},
   "outputs": [],
   "source": [
    "temp_df = baseline_energy1\n",
    "temp_df[\"month\"] = [str(t.month) if t.month>9 else \\\n",
    "    \"0\" + str(t.month) for t in baseline_energy1[\"TimeStamp\"]]\n",
    "temp_df[\"year\"] = [str(t.year) for t in baseline_energy1[\"TimeStamp\"]]\n",
    "temp_df[\"hour\"] = [str(t.hour) if t.hour>9 else \\\n",
    "    \"0\" + str(t.hour) for t in baseline_energy1[\"TimeStamp\"]]\n",
    "temp_df[\"day\"] = [str(t.day) if t.day>9 else \\\n",
    "    \"0\" + str(t.day) for t in baseline_energy1[\"TimeStamp\"]]\n",
    "baseline_energy1[\"date_hour\"] =  (temp_df[['year', 'month',\"day\", \"hour\"]]\n",
    "                                  .apply(lambda x: ''.join(x), axis=1))"
   ]
  },
  {
   "cell_type": "code",
   "execution_count": 117,
   "metadata": {},
   "outputs": [],
   "source": [
    "b_grouped = baseline_energy1.groupby(\"date_hour\")\n",
    "# for name, group in b_grouped:\n",
    "#     print(name)\n",
    "#     print(group)\n",
    "\n",
    "final = b_grouped.agg({\"Id\":\"first\",\n",
    "              \"TimeStamp\": \"first\",\n",
    "              \"WG_1_DSK_3\": \"first\",\n",
    "              \"TOTAL_ENERGY_DESK_TODAY\":\"first\",\n",
    "              \"net_energy_use\":\"sum\"})"
   ]
  },
  {
   "cell_type": "code",
   "execution_count": 62,
   "metadata": {},
   "outputs": [
    {
     "data": {
      "text/plain": [
       "array([[<matplotlib.axes._subplots.AxesSubplot object at 0x11756a080>]],\n",
       "      dtype=object)"
      ]
     },
     "execution_count": 62,
     "metadata": {},
     "output_type": "execute_result"
    },
    {
     "data": {
      "image/png": "[encoded data removed]",
      "text/plain": [
       "<Figure size 432x288 with 1 Axes>"
      ]
     },
     "metadata": {
      "needs_background": "light"
     },
     "output_type": "display_data"
    }
   ],
   "source": [
    "%matplotlib inline\n",
    "\n",
    "baseline_energy1.hist(\"net_energy_use\", bins =100)"
   ]
  },
  {
   "cell_type": "code",
   "execution_count": 132,
   "metadata": {},
   "outputs": [],
   "source": [
    "%aimport utils"
   ]
  },
  {
   "cell_type": "code",
   "execution_count": 133,
   "metadata": {},
   "outputs": [
    {
     "name": "stdout",
     "output_type": "stream",
     "text": [
      "   Id              TimeStamp WG_1_DSK_3  TOTAL_ENERGY_DESK_TODAY\n",
      "0   1  7/30/2018 12:00:00 AM     DESK-3                 383.3700\n",
      "1   2  7/30/2018 12:15:00 AM     DESK-3                 387.7375\n",
      "2   3  7/30/2018 12:30:00 AM     DESK-3                 392.1050\n",
      "3   4  7/30/2018 12:45:00 AM     DESK-3                 396.4725\n",
      "4   5   7/30/2018 1:00:00 AM     DESK-3                 400.8400\n"
     ]
    },
    {
     "name": "stderr",
     "output_type": "stream",
     "text": [
      "/Library/Frameworks/Python.framework/Versions/3.7/lib/python3.7/site-packages/pandas/core/indexing.py:190: SettingWithCopyWarning: \n",
      "A value is trying to be set on a copy of a slice from a DataFrame\n",
      "\n",
      "See the caveats in the documentation: http://pandas.pydata.org/pandas-docs/stable/indexing.html#indexing-view-versus-copy\n",
      "  self._setitem_with_indexer(indexer, value)\n"
     ]
    },
    {
     "name": "stdout",
     "output_type": "stream",
     "text": [
      "   Id              TimeStamp WG_2_DESK-1  TOTAL_ENERGY_DESK_TODAY\n",
      "0   1  7/30/2018 12:00:00 AM      DESK-1                 215.1500\n",
      "1   2  7/30/2018 12:15:00 AM      DESK-1                 219.2925\n",
      "2   3  7/30/2018 12:30:00 AM      DESK-1                 223.4350\n",
      "3   4  7/30/2018 12:45:00 AM      DESK-1                 227.5775\n",
      "4   5   7/30/2018 1:00:00 AM      DESK-1                 231.7200\n",
      "   Id              TimeStamp WG3_DESK-1  TOTAL_ENERGY_DESK_TODAY\n",
      "0   1  7/30/2018 12:00:00 AM     DESK-1                  1133.82\n",
      "1   2  7/30/2018 12:15:00 AM     DESK-1                  1162.90\n",
      "2   3  7/30/2018 12:30:00 AM     DESK-1                  1191.98\n",
      "3   4  7/30/2018 12:45:00 AM     DESK-1                  1221.06\n",
      "4   5   7/30/2018 1:00:00 AM     DESK-1                  1250.14\n"
     ]
    }
   ],
   "source": [
    "baseline_energy1 = pd.read_csv(\"wg1.txt\", sep = \"\\t\")\n",
    "baseline_energy2 = pd.read_csv(\"wg2.txt\", sep = \"\\t\")\n",
    "baseline_energy3 = pd.read_csv(\"wg3.txt\", sep = \"\\t\")\n",
    "\n",
    "be1 = utils.change_wg_into_diff(baseline_energy1)\n",
    "be2 = utils.change_wg_into_diff(baseline_energy2)\n",
    "be3 = utils.change_wg_into_diff(baseline_energy3)"
   ]
  },
  {
   "cell_type": "code",
   "execution_count": 134,
   "metadata": {},
   "outputs": [
    {
     "data": {
      "text/html": [
       "<div>\n",
       "<style scoped>\n",
       "    .dataframe tbody tr th:only-of-type {\n",
       "        vertical-align: middle;\n",
       "    }\n",
       "\n",
       "    .dataframe tbody tr th {\n",
       "        vertical-align: top;\n",
       "    }\n",
       "\n",
       "    .dataframe thead th {\n",
       "        text-align: right;\n",
       "    }\n",
       "</style>\n",
       "<table border=\"1\" class=\"dataframe\">\n",
       "  <thead>\n",
       "    <tr style=\"text-align: right;\">\n",
       "      <th></th>\n",
       "      <th>Id</th>\n",
       "      <th>TimeStamp</th>\n",
       "      <th>TOTAL_ENERGY_DESK_TODAY</th>\n",
       "      <th>net_energy_use</th>\n",
       "    </tr>\n",
       "    <tr>\n",
       "      <th>date_hour</th>\n",
       "      <th></th>\n",
       "      <th></th>\n",
       "      <th></th>\n",
       "      <th></th>\n",
       "    </tr>\n",
       "  </thead>\n",
       "  <tbody>\n",
       "    <tr>\n",
       "      <th>2018073000</th>\n",
       "      <td>1</td>\n",
       "      <td>2018-07-30 00:00:00</td>\n",
       "      <td>215.15</td>\n",
       "      <td>234.325</td>\n",
       "    </tr>\n",
       "    <tr>\n",
       "      <th>2018073001</th>\n",
       "      <td>5</td>\n",
       "      <td>2018-07-30 01:00:00</td>\n",
       "      <td>231.72</td>\n",
       "      <td>51.140</td>\n",
       "    </tr>\n",
       "    <tr>\n",
       "      <th>2018073002</th>\n",
       "      <td>9</td>\n",
       "      <td>2018-07-30 02:00:00</td>\n",
       "      <td>260.29</td>\n",
       "      <td>25.010</td>\n",
       "    </tr>\n",
       "    <tr>\n",
       "      <th>2018073003</th>\n",
       "      <td>13</td>\n",
       "      <td>2018-07-30 03:00:00</td>\n",
       "      <td>267.44</td>\n",
       "      <td>4.295</td>\n",
       "    </tr>\n",
       "    <tr>\n",
       "      <th>2018073004</th>\n",
       "      <td>17</td>\n",
       "      <td>2018-07-30 04:00:00</td>\n",
       "      <td>267.92</td>\n",
       "      <td>0.840</td>\n",
       "    </tr>\n",
       "  </tbody>\n",
       "</table>\n",
       "</div>"
      ],
      "text/plain": [
       "            Id           TimeStamp  TOTAL_ENERGY_DESK_TODAY  net_energy_use\n",
       "date_hour                                                                  \n",
       "2018073000   1 2018-07-30 00:00:00                   215.15         234.325\n",
       "2018073001   5 2018-07-30 01:00:00                   231.72          51.140\n",
       "2018073002   9 2018-07-30 02:00:00                   260.29          25.010\n",
       "2018073003  13 2018-07-30 03:00:00                   267.44           4.295\n",
       "2018073004  17 2018-07-30 04:00:00                   267.92           0.840"
      ]
     },
     "execution_count": 134,
     "metadata": {},
     "output_type": "execute_result"
    }
   ],
   "source": [
    "be2.head()"
   ]
  },
  {
   "cell_type": "code",
   "execution_count": null,
   "metadata": {},
   "outputs": [],
   "source": []
  }
 ],
 "metadata": {
  "kernelspec": {
   "display_name": "Python 3",
   "language": "python",
   "name": "python3"
  },
  "language_info": {
   "codemirror_mode": {
    "name": "ipython",
    "version": 3
   },
   "file_extension": ".py",
   "mimetype": "text/x-python",
   "name": "python",
   "nbconvert_exporter": "python",
   "pygments_lexer": "ipython3",
   "version": "3.7.0b4"
  }
 },
 "nbformat": 4,
 "nbformat_minor": 2
}
