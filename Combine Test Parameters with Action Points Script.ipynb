{
 "cells": [
  {
   "cell_type": "code",
   "execution_count": 100,
   "metadata": {},
   "outputs": [],
   "source": [
    "import pandas as pd\n",
    "import numpy as np\n",
    "import re\n",
    "\n",
    "pd.set_option('display.max_rows', None)\n",
    "pd.set_option('display.max_columns', 500)"
   ]
  },
  {
   "cell_type": "code",
   "execution_count": 101,
   "metadata": {},
   "outputs": [],
   "source": [
    "df = pd.read_csv(\"test_parameters.csv\")\n",
    "points_to_append = pd.read_csv(\"action_energy_pair_linear_extratrain_50.csv\")"
   ]
  },
  {
   "cell_type": "code",
   "execution_count": 102,
   "metadata": {},
   "outputs": [],
   "source": [
    "df.drop(columns=[\"Unnamed: 0\"], inplace=True)\n",
    "points_to_append.drop(columns=[\"Unnamed: 0\"], inplace=True)"
   ]
  },
  {
   "cell_type": "code",
   "execution_count": 103,
   "metadata": {},
   "outputs": [],
   "source": [
    "def clean_and_format_points(string): \n",
    "    li = list(string.split(\" \")) \n",
    "    final = []\n",
    "    for char in li:\n",
    "        char = re.sub(\"[^0-9.]\", \"\", char.rstrip())\n",
    "        if char != \"\" and char != \"[\" and char != \"]\":\n",
    "            final.append(float(char))\n",
    "    return final"
   ]
  },
  {
   "cell_type": "code",
   "execution_count": 104,
   "metadata": {},
   "outputs": [],
   "source": [
    "df[\"points\"] = np.nan"
   ]
  },
  {
   "cell_type": "code",
   "execution_count": 105,
   "metadata": {},
   "outputs": [],
   "source": [
    "day_shift = 0\n",
    "\n",
    "for index, row in points_to_append.iterrows():\n",
    "    hour_shift = 8\n",
    "    for point in clean_and_format_points(row[0]):\n",
    "        # Day Shift is limited by number of days in the test parameter data, hence the cutoff (15)\n",
    "        if day_shift < 15:\n",
    "            row = day_shift * 24 + hour_shift        \n",
    "            df.at[row, 'points'] = point\n",
    "            hour_shift += 1\n",
    "    day_shift += 1"
   ]
  },
  {
   "cell_type": "code",
   "execution_count": 106,
   "metadata": {
    "scrolled": false
   },
   "outputs": [],
   "source": [
    "df.to_csv(r'/Users/akaash/Desktop/Dynamic_Model_Data/simulation_data.csv', index = None, header=True)"
   ]
  },
  {
   "cell_type": "code",
   "execution_count": null,
   "metadata": {},
   "outputs": [],
   "source": []
  }
 ],
 "metadata": {
  "kernelspec": {
   "display_name": "Python 3",
   "language": "python",
   "name": "python3"
  },
  "language_info": {
   "codemirror_mode": {
    "name": "ipython",
    "version": 3
   },
   "file_extension": ".py",
   "mimetype": "text/x-python",
   "name": "python",
   "nbconvert_exporter": "python",
   "pygments_lexer": "ipython3",
   "version": "3.6.10"
  }
 },
 "nbformat": 4,
 "nbformat_minor": 4
}
