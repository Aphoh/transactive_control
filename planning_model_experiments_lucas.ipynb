{
 "cells": [
  {
   "cell_type": "code",
   "execution_count": 1,
   "metadata": {
    "ExecuteTime": {
     "end_time": "2020-06-19T09:39:35.038518Z",
     "start_time": "2020-06-19T09:39:33.216029Z"
    }
   },
   "outputs": [
    {
     "name": "stdout",
     "output_type": "stream",
     "text": [
      "/bin/sh: /Users/lucas.spangher/Documents/Berkeley: No such file or directory\r\n"
     ]
    }
   ],
   "source": [
    "import sys\n",
    "!{sys.executable} -m pip install wwo_hist"
   ]
  },
  {
   "cell_type": "code",
   "execution_count": 2,
   "metadata": {
    "ExecuteTime": {
     "end_time": "2020-06-20T02:02:37.618924Z",
     "start_time": "2020-06-20T02:02:37.615780Z"
    }
   },
   "outputs": [
    {
     "name": "stderr",
     "output_type": "stream",
     "text": [
      "Using TensorFlow backend.\n"
     ]
    }
   ],
   "source": [
    "import numpy as np\n",
    "import pandas as pd\n",
    "\n",
    "# import wwo_hist\n",
    "from sklearn.preprocessing import LabelEncoder, MinMaxScaler\n",
    "from sklearn.metrics import mean_squared_error\n",
    "from keras.callbacks import EarlyStopping\n",
    "from keras.models import Sequential\n",
    "from keras.layers import Dense\n",
    "from keras.layers import LSTM\n",
    "import math"
   ]
  },
  {
   "cell_type": "code",
   "execution_count": 3,
   "metadata": {
    "ExecuteTime": {
     "end_time": "2020-06-19T09:39:52.374037Z",
     "start_time": "2020-06-19T09:39:52.309637Z"
    }
   },
   "outputs": [
    {
     "data": {
      "text/html": [
       "<div>\n",
       "<style scoped>\n",
       "    .dataframe tbody tr th:only-of-type {\n",
       "        vertical-align: middle;\n",
       "    }\n",
       "\n",
       "    .dataframe tbody tr th {\n",
       "        vertical-align: top;\n",
       "    }\n",
       "\n",
       "    .dataframe thead th {\n",
       "        text-align: right;\n",
       "    }\n",
       "</style>\n",
       "<table border=\"1\" class=\"dataframe\">\n",
       "  <thead>\n",
       "    <tr style=\"text-align: right;\">\n",
       "      <th></th>\n",
       "      <th>Hour</th>\n",
       "      <th>Point</th>\n",
       "      <th>Energy</th>\n",
       "      <th>Timestamp</th>\n",
       "      <th>Date</th>\n",
       "      <th>Day of Week</th>\n",
       "      <th>Out_of_Office</th>\n",
       "      <th>Presurvey</th>\n",
       "      <th>Weekly_Survey</th>\n",
       "      <th>Before_Game_Baseline</th>\n",
       "      <th>In_Game_Baseline</th>\n",
       "    </tr>\n",
       "  </thead>\n",
       "  <tbody>\n",
       "    <tr>\n",
       "      <th>0</th>\n",
       "      <td>8</td>\n",
       "      <td>0.000000</td>\n",
       "      <td>58.383468</td>\n",
       "      <td>2018-09-20 08:00:00</td>\n",
       "      <td>2018-09-20</td>\n",
       "      <td>Thursday</td>\n",
       "      <td>0</td>\n",
       "      <td>4.82</td>\n",
       "      <td>1.79</td>\n",
       "      <td>8.531474</td>\n",
       "      <td>NaN</td>\n",
       "    </tr>\n",
       "    <tr>\n",
       "      <th>1</th>\n",
       "      <td>9</td>\n",
       "      <td>0.000000</td>\n",
       "      <td>88.785622</td>\n",
       "      <td>2018-09-20 09:00:00</td>\n",
       "      <td>2018-09-20</td>\n",
       "      <td>Thursday</td>\n",
       "      <td>0</td>\n",
       "      <td>4.82</td>\n",
       "      <td>1.79</td>\n",
       "      <td>11.331923</td>\n",
       "      <td>NaN</td>\n",
       "    </tr>\n",
       "    <tr>\n",
       "      <th>2</th>\n",
       "      <td>10</td>\n",
       "      <td>10.000000</td>\n",
       "      <td>76.836119</td>\n",
       "      <td>2018-09-20 10:00:00</td>\n",
       "      <td>2018-09-20</td>\n",
       "      <td>Thursday</td>\n",
       "      <td>0</td>\n",
       "      <td>4.82</td>\n",
       "      <td>1.79</td>\n",
       "      <td>26.189487</td>\n",
       "      <td>NaN</td>\n",
       "    </tr>\n",
       "    <tr>\n",
       "      <th>3</th>\n",
       "      <td>11</td>\n",
       "      <td>10.000000</td>\n",
       "      <td>90.501904</td>\n",
       "      <td>2018-09-20 11:00:00</td>\n",
       "      <td>2018-09-20</td>\n",
       "      <td>Thursday</td>\n",
       "      <td>0</td>\n",
       "      <td>4.82</td>\n",
       "      <td>1.79</td>\n",
       "      <td>29.648204</td>\n",
       "      <td>NaN</td>\n",
       "    </tr>\n",
       "    <tr>\n",
       "      <th>4</th>\n",
       "      <td>12</td>\n",
       "      <td>9.871989</td>\n",
       "      <td>53.371114</td>\n",
       "      <td>2018-09-20 12:00:00</td>\n",
       "      <td>2018-09-20</td>\n",
       "      <td>Thursday</td>\n",
       "      <td>0</td>\n",
       "      <td>4.82</td>\n",
       "      <td>1.79</td>\n",
       "      <td>29.592628</td>\n",
       "      <td>NaN</td>\n",
       "    </tr>\n",
       "  </tbody>\n",
       "</table>\n",
       "</div>"
      ],
      "text/plain": [
       "   Hour      Point     Energy            Timestamp        Date Day of Week  \\\n",
       "0     8   0.000000  58.383468  2018-09-20 08:00:00  2018-09-20    Thursday   \n",
       "1     9   0.000000  88.785622  2018-09-20 09:00:00  2018-09-20    Thursday   \n",
       "2    10  10.000000  76.836119  2018-09-20 10:00:00  2018-09-20    Thursday   \n",
       "3    11  10.000000  90.501904  2018-09-20 11:00:00  2018-09-20    Thursday   \n",
       "4    12   9.871989  53.371114  2018-09-20 12:00:00  2018-09-20    Thursday   \n",
       "\n",
       "   Out_of_Office  Presurvey  Weekly_Survey  Before_Game_Baseline  \\\n",
       "0              0       4.82           1.79              8.531474   \n",
       "1              0       4.82           1.79             11.331923   \n",
       "2              0       4.82           1.79             26.189487   \n",
       "3              0       4.82           1.79             29.648204   \n",
       "4              0       4.82           1.79             29.592628   \n",
       "\n",
       "   In_Game_Baseline  \n",
       "0               NaN  \n",
       "1               NaN  \n",
       "2               NaN  \n",
       "3               NaN  \n",
       "4               NaN  "
      ]
     },
     "execution_count": 3,
     "metadata": {},
     "output_type": "execute_result"
    }
   ],
   "source": [
    "df = pd.read_csv(\n",
    "    \"simulation_data_v2.csv\"\n",
    "    )\n",
    "df.head()"
   ]
  },
  {
   "cell_type": "code",
   "execution_count": 4,
   "metadata": {},
   "outputs": [
    {
     "data": {
      "text/plain": [
       "(16867, 11)"
      ]
     },
     "execution_count": 4,
     "metadata": {},
     "output_type": "execute_result"
    }
   ],
   "source": [
    "df.shape"
   ]
  },
  {
   "cell_type": "markdown",
   "metadata": {},
   "source": [
    "# Adding weather data"
   ]
  },
  {
   "cell_type": "markdown",
   "metadata": {},
   "source": [
    "We first get the range of timestamps, so we know how much weather data to get"
   ]
  },
  {
   "cell_type": "code",
   "execution_count": 72,
   "metadata": {
    "ExecuteTime": {
     "end_time": "2020-06-19T09:39:54.329122Z",
     "start_time": "2020-06-19T09:39:54.317712Z"
    }
   },
   "outputs": [
    {
     "data": {
      "text/plain": [
       "(Timestamp('2018-09-20 08:00:00'), Timestamp('2023-05-03 14:00:00'))"
      ]
     },
     "execution_count": 72,
     "metadata": {},
     "output_type": "execute_result"
    }
   ],
   "source": [
    "df['Timestamp'] = pd.to_datetime(df['Timestamp'])\n",
    "df['Timestamp'].min(), df['Timestamp'].max()"
   ]
  },
  {
   "cell_type": "markdown",
   "metadata": {},
   "source": [
    "We only want to grab a month's worth of data."
   ]
  },
  {
   "cell_type": "code",
   "execution_count": 33,
   "metadata": {
    "ExecuteTime": {
     "end_time": "2020-06-19T09:39:56.182592Z",
     "start_time": "2020-06-19T09:39:56.175040Z"
    }
   },
   "outputs": [
    {
     "data": {
      "text/plain": [
       "(Timestamp('2018-09-20 08:00:00'), Timestamp('2023-05-03 14:00:00'))"
      ]
     },
     "execution_count": 33,
     "metadata": {},
     "output_type": "execute_result"
    }
   ],
   "source": [
    "# df = df[df['Timestamp'] < pd.Timestamp('2018-10-20 08:00:00')]\n",
    "df['Timestamp'].min(), df['Timestamp'].max()"
   ]
  },
  {
   "cell_type": "code",
   "execution_count": 67,
   "metadata": {
    "ExecuteTime": {
     "end_time": "2020-06-19T09:40:26.258681Z",
     "start_time": "2020-06-19T09:40:26.248259Z"
    }
   },
   "outputs": [],
   "source": [
    "frequency = 1\n",
    "start_date = '20-SEPT-2018'\n",
    "end_date = '20-SEPT-2020'\n",
    "api_key = 'ac2aff5d06ab4bc2bdb181823201106'\n",
    "location_list = ['singapore']\n",
    "\n",
    "import os\n",
    "file_exists = os.path.exists(\"singapore.csv\")\n",
    "\n",
    "weather_df = (wwo_hist.retrieve_hist_data(api_key,\n",
    "                                location_list,\n",
    "                                start_date,\n",
    "                                end_date,\n",
    "                                frequency,\n",
    "                                location_label = False,\n",
    "                                export_csv = True,\n",
    "                                store_df = True)[0] \n",
    "                     if not file_exists\n",
    "                     else pd.read_csv(\"singapore.csv\"))"
   ]
  },
  {
   "cell_type": "code",
   "execution_count": 68,
   "metadata": {
    "ExecuteTime": {
     "end_time": "2020-06-19T09:40:29.423067Z",
     "start_time": "2020-06-19T09:40:29.402142Z"
    }
   },
   "outputs": [
    {
     "name": "stdout",
     "output_type": "stream",
     "text": [
      "(720, 25)\n"
     ]
    },
    {
     "data": {
      "text/html": [
       "<div>\n",
       "<style scoped>\n",
       "    .dataframe tbody tr th:only-of-type {\n",
       "        vertical-align: middle;\n",
       "    }\n",
       "\n",
       "    .dataframe tbody tr th {\n",
       "        vertical-align: top;\n",
       "    }\n",
       "\n",
       "    .dataframe thead th {\n",
       "        text-align: right;\n",
       "    }\n",
       "</style>\n",
       "<table border=\"1\" class=\"dataframe\">\n",
       "  <thead>\n",
       "    <tr style=\"text-align: right;\">\n",
       "      <th></th>\n",
       "      <th>date_time</th>\n",
       "      <th>maxtempC</th>\n",
       "      <th>mintempC</th>\n",
       "      <th>totalSnow_cm</th>\n",
       "      <th>sunHour</th>\n",
       "      <th>uvIndex</th>\n",
       "      <th>moon_illumination</th>\n",
       "      <th>moonrise</th>\n",
       "      <th>moonset</th>\n",
       "      <th>sunrise</th>\n",
       "      <th>...</th>\n",
       "      <th>WindGustKmph</th>\n",
       "      <th>cloudcover</th>\n",
       "      <th>humidity</th>\n",
       "      <th>precipMM</th>\n",
       "      <th>pressure</th>\n",
       "      <th>tempC</th>\n",
       "      <th>visibility</th>\n",
       "      <th>winddirDegree</th>\n",
       "      <th>windspeedKmph</th>\n",
       "      <th>location</th>\n",
       "    </tr>\n",
       "  </thead>\n",
       "  <tbody>\n",
       "    <tr>\n",
       "      <th>0</th>\n",
       "      <td>2018-09-20 00:00:00</td>\n",
       "      <td>33</td>\n",
       "      <td>25</td>\n",
       "      <td>0.0</td>\n",
       "      <td>10.3</td>\n",
       "      <td>7</td>\n",
       "      <td>72</td>\n",
       "      <td>03:35 PM</td>\n",
       "      <td>03:06 AM</td>\n",
       "      <td>06:55 AM</td>\n",
       "      <td>...</td>\n",
       "      <td>6</td>\n",
       "      <td>27</td>\n",
       "      <td>83</td>\n",
       "      <td>0.0</td>\n",
       "      <td>1010</td>\n",
       "      <td>25</td>\n",
       "      <td>10</td>\n",
       "      <td>46</td>\n",
       "      <td>4</td>\n",
       "      <td>singapore</td>\n",
       "    </tr>\n",
       "    <tr>\n",
       "      <th>1</th>\n",
       "      <td>2018-09-20 01:00:00</td>\n",
       "      <td>33</td>\n",
       "      <td>25</td>\n",
       "      <td>0.0</td>\n",
       "      <td>10.3</td>\n",
       "      <td>7</td>\n",
       "      <td>72</td>\n",
       "      <td>03:35 PM</td>\n",
       "      <td>03:06 AM</td>\n",
       "      <td>06:55 AM</td>\n",
       "      <td>...</td>\n",
       "      <td>6</td>\n",
       "      <td>26</td>\n",
       "      <td>83</td>\n",
       "      <td>0.0</td>\n",
       "      <td>1010</td>\n",
       "      <td>25</td>\n",
       "      <td>10</td>\n",
       "      <td>50</td>\n",
       "      <td>4</td>\n",
       "      <td>singapore</td>\n",
       "    </tr>\n",
       "    <tr>\n",
       "      <th>2</th>\n",
       "      <td>2018-09-20 02:00:00</td>\n",
       "      <td>33</td>\n",
       "      <td>25</td>\n",
       "      <td>0.0</td>\n",
       "      <td>10.3</td>\n",
       "      <td>7</td>\n",
       "      <td>72</td>\n",
       "      <td>03:35 PM</td>\n",
       "      <td>03:06 AM</td>\n",
       "      <td>06:55 AM</td>\n",
       "      <td>...</td>\n",
       "      <td>5</td>\n",
       "      <td>25</td>\n",
       "      <td>83</td>\n",
       "      <td>0.0</td>\n",
       "      <td>1010</td>\n",
       "      <td>25</td>\n",
       "      <td>10</td>\n",
       "      <td>54</td>\n",
       "      <td>3</td>\n",
       "      <td>singapore</td>\n",
       "    </tr>\n",
       "    <tr>\n",
       "      <th>3</th>\n",
       "      <td>2018-09-20 03:00:00</td>\n",
       "      <td>33</td>\n",
       "      <td>25</td>\n",
       "      <td>0.0</td>\n",
       "      <td>10.3</td>\n",
       "      <td>7</td>\n",
       "      <td>72</td>\n",
       "      <td>03:35 PM</td>\n",
       "      <td>03:06 AM</td>\n",
       "      <td>06:55 AM</td>\n",
       "      <td>...</td>\n",
       "      <td>5</td>\n",
       "      <td>25</td>\n",
       "      <td>83</td>\n",
       "      <td>0.0</td>\n",
       "      <td>1009</td>\n",
       "      <td>25</td>\n",
       "      <td>10</td>\n",
       "      <td>58</td>\n",
       "      <td>3</td>\n",
       "      <td>singapore</td>\n",
       "    </tr>\n",
       "    <tr>\n",
       "      <th>4</th>\n",
       "      <td>2018-09-20 04:00:00</td>\n",
       "      <td>33</td>\n",
       "      <td>25</td>\n",
       "      <td>0.0</td>\n",
       "      <td>10.3</td>\n",
       "      <td>7</td>\n",
       "      <td>72</td>\n",
       "      <td>03:35 PM</td>\n",
       "      <td>03:06 AM</td>\n",
       "      <td>06:55 AM</td>\n",
       "      <td>...</td>\n",
       "      <td>4</td>\n",
       "      <td>28</td>\n",
       "      <td>82</td>\n",
       "      <td>0.0</td>\n",
       "      <td>1010</td>\n",
       "      <td>25</td>\n",
       "      <td>10</td>\n",
       "      <td>42</td>\n",
       "      <td>3</td>\n",
       "      <td>singapore</td>\n",
       "    </tr>\n",
       "  </tbody>\n",
       "</table>\n",
       "<p>5 rows × 25 columns</p>\n",
       "</div>"
      ],
      "text/plain": [
       "             date_time  maxtempC  mintempC  totalSnow_cm  sunHour  uvIndex  \\\n",
       "0  2018-09-20 00:00:00        33        25           0.0     10.3        7   \n",
       "1  2018-09-20 01:00:00        33        25           0.0     10.3        7   \n",
       "2  2018-09-20 02:00:00        33        25           0.0     10.3        7   \n",
       "3  2018-09-20 03:00:00        33        25           0.0     10.3        7   \n",
       "4  2018-09-20 04:00:00        33        25           0.0     10.3        7   \n",
       "\n",
       "   moon_illumination  moonrise   moonset   sunrise  ... WindGustKmph  \\\n",
       "0                 72  03:35 PM  03:06 AM  06:55 AM  ...            6   \n",
       "1                 72  03:35 PM  03:06 AM  06:55 AM  ...            6   \n",
       "2                 72  03:35 PM  03:06 AM  06:55 AM  ...            5   \n",
       "3                 72  03:35 PM  03:06 AM  06:55 AM  ...            5   \n",
       "4                 72  03:35 PM  03:06 AM  06:55 AM  ...            4   \n",
       "\n",
       "   cloudcover  humidity  precipMM  pressure  tempC  visibility  winddirDegree  \\\n",
       "0          27        83       0.0      1010     25          10             46   \n",
       "1          26        83       0.0      1010     25          10             50   \n",
       "2          25        83       0.0      1010     25          10             54   \n",
       "3          25        83       0.0      1009     25          10             58   \n",
       "4          28        82       0.0      1010     25          10             42   \n",
       "\n",
       "   windspeedKmph   location  \n",
       "0              4  singapore  \n",
       "1              4  singapore  \n",
       "2              3  singapore  \n",
       "3              3  singapore  \n",
       "4              3  singapore  \n",
       "\n",
       "[5 rows x 25 columns]"
      ]
     },
     "execution_count": 68,
     "metadata": {},
     "output_type": "execute_result"
    }
   ],
   "source": [
    "print(weather_df.shape)\n",
    "weather_df.head()"
   ]
  },
  {
   "cell_type": "markdown",
   "metadata": {},
   "source": [
    "### Taking temperature, precipitation, humidity, and joining on the main dataframe."
   ]
  },
  {
   "cell_type": "code",
   "execution_count": 56,
   "metadata": {
    "ExecuteTime": {
     "end_time": "2020-06-19T09:42:11.561814Z",
     "start_time": "2020-06-19T09:42:11.548533Z"
    }
   },
   "outputs": [
    {
     "data": {
      "text/html": [
       "<div>\n",
       "<style scoped>\n",
       "    .dataframe tbody tr th:only-of-type {\n",
       "        vertical-align: middle;\n",
       "    }\n",
       "\n",
       "    .dataframe tbody tr th {\n",
       "        vertical-align: top;\n",
       "    }\n",
       "\n",
       "    .dataframe thead th {\n",
       "        text-align: right;\n",
       "    }\n",
       "</style>\n",
       "<table border=\"1\" class=\"dataframe\">\n",
       "  <thead>\n",
       "    <tr style=\"text-align: right;\">\n",
       "      <th></th>\n",
       "      <th>Timestamp</th>\n",
       "      <th>tempC</th>\n",
       "      <th>precipMM</th>\n",
       "      <th>humidity</th>\n",
       "    </tr>\n",
       "  </thead>\n",
       "  <tbody>\n",
       "    <tr>\n",
       "      <th>0</th>\n",
       "      <td>2018-09-20 00:00:00</td>\n",
       "      <td>25</td>\n",
       "      <td>0.0</td>\n",
       "      <td>83</td>\n",
       "    </tr>\n",
       "    <tr>\n",
       "      <th>1</th>\n",
       "      <td>2018-09-20 01:00:00</td>\n",
       "      <td>25</td>\n",
       "      <td>0.0</td>\n",
       "      <td>83</td>\n",
       "    </tr>\n",
       "    <tr>\n",
       "      <th>2</th>\n",
       "      <td>2018-09-20 02:00:00</td>\n",
       "      <td>25</td>\n",
       "      <td>0.0</td>\n",
       "      <td>83</td>\n",
       "    </tr>\n",
       "    <tr>\n",
       "      <th>3</th>\n",
       "      <td>2018-09-20 03:00:00</td>\n",
       "      <td>25</td>\n",
       "      <td>0.0</td>\n",
       "      <td>83</td>\n",
       "    </tr>\n",
       "    <tr>\n",
       "      <th>4</th>\n",
       "      <td>2018-09-20 04:00:00</td>\n",
       "      <td>25</td>\n",
       "      <td>0.0</td>\n",
       "      <td>82</td>\n",
       "    </tr>\n",
       "  </tbody>\n",
       "</table>\n",
       "</div>"
      ],
      "text/plain": [
       "            Timestamp  tempC  precipMM  humidity\n",
       "0 2018-09-20 00:00:00     25       0.0        83\n",
       "1 2018-09-20 01:00:00     25       0.0        83\n",
       "2 2018-09-20 02:00:00     25       0.0        83\n",
       "3 2018-09-20 03:00:00     25       0.0        83\n",
       "4 2018-09-20 04:00:00     25       0.0        82"
      ]
     },
     "execution_count": 56,
     "metadata": {},
     "output_type": "execute_result"
    }
   ],
   "source": [
    "weather_subset_df = (weather_df[['date_time', 'tempC', 'precipMM', 'humidity']]\n",
    "                    .rename({\"date_time\": \"Timestamp\"}, axis=1))\n",
    "weather_subset_df['Timestamp'] = pd.to_datetime(weather_subset_df['Timestamp'])\n",
    "weather_subset_df.head()"
   ]
  },
  {
   "cell_type": "code",
   "execution_count": 62,
   "metadata": {
    "ExecuteTime": {
     "end_time": "2020-06-19T09:42:17.897821Z",
     "start_time": "2020-06-19T09:42:17.876943Z"
    }
   },
   "outputs": [
    {
     "data": {
      "text/html": [
       "<div>\n",
       "<style scoped>\n",
       "    .dataframe tbody tr th:only-of-type {\n",
       "        vertical-align: middle;\n",
       "    }\n",
       "\n",
       "    .dataframe tbody tr th {\n",
       "        vertical-align: top;\n",
       "    }\n",
       "\n",
       "    .dataframe thead th {\n",
       "        text-align: right;\n",
       "    }\n",
       "</style>\n",
       "<table border=\"1\" class=\"dataframe\">\n",
       "  <thead>\n",
       "    <tr style=\"text-align: right;\">\n",
       "      <th></th>\n",
       "      <th>Timestamp</th>\n",
       "      <th>Point</th>\n",
       "      <th>Day of Week</th>\n",
       "      <th>Out_of_Office</th>\n",
       "      <th>tempC_x</th>\n",
       "      <th>precipMM_x</th>\n",
       "      <th>humidity_x</th>\n",
       "      <th>Energy</th>\n",
       "      <th>tempC_y</th>\n",
       "      <th>precipMM_y</th>\n",
       "      <th>humidity_y</th>\n",
       "      <th>tempC_x</th>\n",
       "      <th>precipMM_x</th>\n",
       "      <th>humidity_x</th>\n",
       "      <th>tempC_y</th>\n",
       "      <th>precipMM_y</th>\n",
       "      <th>humidity_y</th>\n",
       "      <th>tempC</th>\n",
       "      <th>precipMM</th>\n",
       "      <th>humidity</th>\n",
       "    </tr>\n",
       "  </thead>\n",
       "  <tbody>\n",
       "    <tr>\n",
       "      <th>1000</th>\n",
       "      <td>2018-12-29 08:00:00</td>\n",
       "      <td>0.000000</td>\n",
       "      <td>2</td>\n",
       "      <td>0</td>\n",
       "      <td>NaN</td>\n",
       "      <td>NaN</td>\n",
       "      <td>NaN</td>\n",
       "      <td>49.992809</td>\n",
       "      <td>NaN</td>\n",
       "      <td>NaN</td>\n",
       "      <td>NaN</td>\n",
       "      <td>NaN</td>\n",
       "      <td>NaN</td>\n",
       "      <td>NaN</td>\n",
       "      <td>NaN</td>\n",
       "      <td>NaN</td>\n",
       "      <td>NaN</td>\n",
       "      <td>NaN</td>\n",
       "      <td>NaN</td>\n",
       "      <td>NaN</td>\n",
       "    </tr>\n",
       "    <tr>\n",
       "      <th>1001</th>\n",
       "      <td>2018-12-29 09:00:00</td>\n",
       "      <td>0.000000</td>\n",
       "      <td>2</td>\n",
       "      <td>0</td>\n",
       "      <td>NaN</td>\n",
       "      <td>NaN</td>\n",
       "      <td>NaN</td>\n",
       "      <td>98.921878</td>\n",
       "      <td>NaN</td>\n",
       "      <td>NaN</td>\n",
       "      <td>NaN</td>\n",
       "      <td>NaN</td>\n",
       "      <td>NaN</td>\n",
       "      <td>NaN</td>\n",
       "      <td>NaN</td>\n",
       "      <td>NaN</td>\n",
       "      <td>NaN</td>\n",
       "      <td>NaN</td>\n",
       "      <td>NaN</td>\n",
       "      <td>NaN</td>\n",
       "    </tr>\n",
       "    <tr>\n",
       "      <th>1002</th>\n",
       "      <td>2018-12-29 10:00:00</td>\n",
       "      <td>10.000000</td>\n",
       "      <td>2</td>\n",
       "      <td>0</td>\n",
       "      <td>NaN</td>\n",
       "      <td>NaN</td>\n",
       "      <td>NaN</td>\n",
       "      <td>83.773041</td>\n",
       "      <td>NaN</td>\n",
       "      <td>NaN</td>\n",
       "      <td>NaN</td>\n",
       "      <td>NaN</td>\n",
       "      <td>NaN</td>\n",
       "      <td>NaN</td>\n",
       "      <td>NaN</td>\n",
       "      <td>NaN</td>\n",
       "      <td>NaN</td>\n",
       "      <td>NaN</td>\n",
       "      <td>NaN</td>\n",
       "      <td>NaN</td>\n",
       "    </tr>\n",
       "    <tr>\n",
       "      <th>1003</th>\n",
       "      <td>2018-12-29 11:00:00</td>\n",
       "      <td>0.836958</td>\n",
       "      <td>2</td>\n",
       "      <td>0</td>\n",
       "      <td>NaN</td>\n",
       "      <td>NaN</td>\n",
       "      <td>NaN</td>\n",
       "      <td>212.581671</td>\n",
       "      <td>NaN</td>\n",
       "      <td>NaN</td>\n",
       "      <td>NaN</td>\n",
       "      <td>NaN</td>\n",
       "      <td>NaN</td>\n",
       "      <td>NaN</td>\n",
       "      <td>NaN</td>\n",
       "      <td>NaN</td>\n",
       "      <td>NaN</td>\n",
       "      <td>NaN</td>\n",
       "      <td>NaN</td>\n",
       "      <td>NaN</td>\n",
       "    </tr>\n",
       "    <tr>\n",
       "      <th>1004</th>\n",
       "      <td>2018-12-29 12:00:00</td>\n",
       "      <td>9.986929</td>\n",
       "      <td>2</td>\n",
       "      <td>0</td>\n",
       "      <td>NaN</td>\n",
       "      <td>NaN</td>\n",
       "      <td>NaN</td>\n",
       "      <td>50.609329</td>\n",
       "      <td>NaN</td>\n",
       "      <td>NaN</td>\n",
       "      <td>NaN</td>\n",
       "      <td>NaN</td>\n",
       "      <td>NaN</td>\n",
       "      <td>NaN</td>\n",
       "      <td>NaN</td>\n",
       "      <td>NaN</td>\n",
       "      <td>NaN</td>\n",
       "      <td>NaN</td>\n",
       "      <td>NaN</td>\n",
       "      <td>NaN</td>\n",
       "    </tr>\n",
       "    <tr>\n",
       "      <th>...</th>\n",
       "      <td>...</td>\n",
       "      <td>...</td>\n",
       "      <td>...</td>\n",
       "      <td>...</td>\n",
       "      <td>...</td>\n",
       "      <td>...</td>\n",
       "      <td>...</td>\n",
       "      <td>...</td>\n",
       "      <td>...</td>\n",
       "      <td>...</td>\n",
       "      <td>...</td>\n",
       "      <td>...</td>\n",
       "      <td>...</td>\n",
       "      <td>...</td>\n",
       "      <td>...</td>\n",
       "      <td>...</td>\n",
       "      <td>...</td>\n",
       "      <td>...</td>\n",
       "      <td>...</td>\n",
       "      <td>...</td>\n",
       "    </tr>\n",
       "    <tr>\n",
       "      <th>1095</th>\n",
       "      <td>2019-01-07 13:00:00</td>\n",
       "      <td>9.999942</td>\n",
       "      <td>1</td>\n",
       "      <td>0</td>\n",
       "      <td>NaN</td>\n",
       "      <td>NaN</td>\n",
       "      <td>NaN</td>\n",
       "      <td>228.047374</td>\n",
       "      <td>NaN</td>\n",
       "      <td>NaN</td>\n",
       "      <td>NaN</td>\n",
       "      <td>NaN</td>\n",
       "      <td>NaN</td>\n",
       "      <td>NaN</td>\n",
       "      <td>NaN</td>\n",
       "      <td>NaN</td>\n",
       "      <td>NaN</td>\n",
       "      <td>NaN</td>\n",
       "      <td>NaN</td>\n",
       "      <td>NaN</td>\n",
       "    </tr>\n",
       "    <tr>\n",
       "      <th>1096</th>\n",
       "      <td>2019-01-07 14:00:00</td>\n",
       "      <td>10.000000</td>\n",
       "      <td>1</td>\n",
       "      <td>0</td>\n",
       "      <td>NaN</td>\n",
       "      <td>NaN</td>\n",
       "      <td>NaN</td>\n",
       "      <td>413.109540</td>\n",
       "      <td>NaN</td>\n",
       "      <td>NaN</td>\n",
       "      <td>NaN</td>\n",
       "      <td>NaN</td>\n",
       "      <td>NaN</td>\n",
       "      <td>NaN</td>\n",
       "      <td>NaN</td>\n",
       "      <td>NaN</td>\n",
       "      <td>NaN</td>\n",
       "      <td>NaN</td>\n",
       "      <td>NaN</td>\n",
       "      <td>NaN</td>\n",
       "    </tr>\n",
       "    <tr>\n",
       "      <th>1097</th>\n",
       "      <td>2019-01-07 15:00:00</td>\n",
       "      <td>10.000000</td>\n",
       "      <td>1</td>\n",
       "      <td>0</td>\n",
       "      <td>NaN</td>\n",
       "      <td>NaN</td>\n",
       "      <td>NaN</td>\n",
       "      <td>365.245441</td>\n",
       "      <td>NaN</td>\n",
       "      <td>NaN</td>\n",
       "      <td>NaN</td>\n",
       "      <td>NaN</td>\n",
       "      <td>NaN</td>\n",
       "      <td>NaN</td>\n",
       "      <td>NaN</td>\n",
       "      <td>NaN</td>\n",
       "      <td>NaN</td>\n",
       "      <td>NaN</td>\n",
       "      <td>NaN</td>\n",
       "      <td>NaN</td>\n",
       "    </tr>\n",
       "    <tr>\n",
       "      <th>1098</th>\n",
       "      <td>2019-01-07 16:00:00</td>\n",
       "      <td>0.000000</td>\n",
       "      <td>1</td>\n",
       "      <td>0</td>\n",
       "      <td>NaN</td>\n",
       "      <td>NaN</td>\n",
       "      <td>NaN</td>\n",
       "      <td>348.610709</td>\n",
       "      <td>NaN</td>\n",
       "      <td>NaN</td>\n",
       "      <td>NaN</td>\n",
       "      <td>NaN</td>\n",
       "      <td>NaN</td>\n",
       "      <td>NaN</td>\n",
       "      <td>NaN</td>\n",
       "      <td>NaN</td>\n",
       "      <td>NaN</td>\n",
       "      <td>NaN</td>\n",
       "      <td>NaN</td>\n",
       "      <td>NaN</td>\n",
       "    </tr>\n",
       "    <tr>\n",
       "      <th>1099</th>\n",
       "      <td>2019-01-07 17:00:00</td>\n",
       "      <td>0.000000</td>\n",
       "      <td>1</td>\n",
       "      <td>0</td>\n",
       "      <td>NaN</td>\n",
       "      <td>NaN</td>\n",
       "      <td>NaN</td>\n",
       "      <td>185.276654</td>\n",
       "      <td>NaN</td>\n",
       "      <td>NaN</td>\n",
       "      <td>NaN</td>\n",
       "      <td>NaN</td>\n",
       "      <td>NaN</td>\n",
       "      <td>NaN</td>\n",
       "      <td>NaN</td>\n",
       "      <td>NaN</td>\n",
       "      <td>NaN</td>\n",
       "      <td>NaN</td>\n",
       "      <td>NaN</td>\n",
       "      <td>NaN</td>\n",
       "    </tr>\n",
       "  </tbody>\n",
       "</table>\n",
       "<p>100 rows × 20 columns</p>\n",
       "</div>"
      ],
      "text/plain": [
       "               Timestamp      Point  Day of Week  Out_of_Office  tempC_x  \\\n",
       "1000 2018-12-29 08:00:00   0.000000            2              0      NaN   \n",
       "1001 2018-12-29 09:00:00   0.000000            2              0      NaN   \n",
       "1002 2018-12-29 10:00:00  10.000000            2              0      NaN   \n",
       "1003 2018-12-29 11:00:00   0.836958            2              0      NaN   \n",
       "1004 2018-12-29 12:00:00   9.986929            2              0      NaN   \n",
       "...                  ...        ...          ...            ...      ...   \n",
       "1095 2019-01-07 13:00:00   9.999942            1              0      NaN   \n",
       "1096 2019-01-07 14:00:00  10.000000            1              0      NaN   \n",
       "1097 2019-01-07 15:00:00  10.000000            1              0      NaN   \n",
       "1098 2019-01-07 16:00:00   0.000000            1              0      NaN   \n",
       "1099 2019-01-07 17:00:00   0.000000            1              0      NaN   \n",
       "\n",
       "      precipMM_x  humidity_x      Energy  tempC_y  precipMM_y  humidity_y  \\\n",
       "1000         NaN         NaN   49.992809      NaN         NaN         NaN   \n",
       "1001         NaN         NaN   98.921878      NaN         NaN         NaN   \n",
       "1002         NaN         NaN   83.773041      NaN         NaN         NaN   \n",
       "1003         NaN         NaN  212.581671      NaN         NaN         NaN   \n",
       "1004         NaN         NaN   50.609329      NaN         NaN         NaN   \n",
       "...          ...         ...         ...      ...         ...         ...   \n",
       "1095         NaN         NaN  228.047374      NaN         NaN         NaN   \n",
       "1096         NaN         NaN  413.109540      NaN         NaN         NaN   \n",
       "1097         NaN         NaN  365.245441      NaN         NaN         NaN   \n",
       "1098         NaN         NaN  348.610709      NaN         NaN         NaN   \n",
       "1099         NaN         NaN  185.276654      NaN         NaN         NaN   \n",
       "\n",
       "      tempC_x  precipMM_x  humidity_x  tempC_y  precipMM_y  humidity_y  tempC  \\\n",
       "1000      NaN         NaN         NaN      NaN         NaN         NaN    NaN   \n",
       "1001      NaN         NaN         NaN      NaN         NaN         NaN    NaN   \n",
       "1002      NaN         NaN         NaN      NaN         NaN         NaN    NaN   \n",
       "1003      NaN         NaN         NaN      NaN         NaN         NaN    NaN   \n",
       "1004      NaN         NaN         NaN      NaN         NaN         NaN    NaN   \n",
       "...       ...         ...         ...      ...         ...         ...    ...   \n",
       "1095      NaN         NaN         NaN      NaN         NaN         NaN    NaN   \n",
       "1096      NaN         NaN         NaN      NaN         NaN         NaN    NaN   \n",
       "1097      NaN         NaN         NaN      NaN         NaN         NaN    NaN   \n",
       "1098      NaN         NaN         NaN      NaN         NaN         NaN    NaN   \n",
       "1099      NaN         NaN         NaN      NaN         NaN         NaN    NaN   \n",
       "\n",
       "      precipMM  humidity  \n",
       "1000       NaN       NaN  \n",
       "1001       NaN       NaN  \n",
       "1002       NaN       NaN  \n",
       "1003       NaN       NaN  \n",
       "1004       NaN       NaN  \n",
       "...        ...       ...  \n",
       "1095       NaN       NaN  \n",
       "1096       NaN       NaN  \n",
       "1097       NaN       NaN  \n",
       "1098       NaN       NaN  \n",
       "1099       NaN       NaN  \n",
       "\n",
       "[100 rows x 20 columns]"
      ]
     },
     "execution_count": 62,
     "metadata": {},
     "output_type": "execute_result"
    }
   ],
   "source": [
    "df = df.merge(right=weather_subset_df, on=\"Timestamp\", how=\"left\")\n",
    "df.iloc[1000:1100, :]"
   ]
  },
  {
   "cell_type": "code",
   "execution_count": 5,
   "metadata": {},
   "outputs": [
    {
     "data": {
      "text/html": [
       "<div>\n",
       "<style scoped>\n",
       "    .dataframe tbody tr th:only-of-type {\n",
       "        vertical-align: middle;\n",
       "    }\n",
       "\n",
       "    .dataframe tbody tr th {\n",
       "        vertical-align: top;\n",
       "    }\n",
       "\n",
       "    .dataframe thead th {\n",
       "        text-align: right;\n",
       "    }\n",
       "</style>\n",
       "<table border=\"1\" class=\"dataframe\">\n",
       "  <thead>\n",
       "    <tr style=\"text-align: right;\">\n",
       "      <th></th>\n",
       "      <th>Hour</th>\n",
       "      <th>Point</th>\n",
       "      <th>Energy</th>\n",
       "      <th>Timestamp</th>\n",
       "      <th>Date</th>\n",
       "      <th>Day of Week</th>\n",
       "      <th>Out_of_Office</th>\n",
       "      <th>Presurvey</th>\n",
       "      <th>Weekly_Survey</th>\n",
       "      <th>Before_Game_Baseline</th>\n",
       "      <th>In_Game_Baseline</th>\n",
       "    </tr>\n",
       "  </thead>\n",
       "  <tbody>\n",
       "    <tr>\n",
       "      <th>0</th>\n",
       "      <td>8</td>\n",
       "      <td>0.000000</td>\n",
       "      <td>58.383468</td>\n",
       "      <td>2018-09-20 08:00:00</td>\n",
       "      <td>2018-09-20</td>\n",
       "      <td>Thursday</td>\n",
       "      <td>0</td>\n",
       "      <td>4.82</td>\n",
       "      <td>1.79</td>\n",
       "      <td>8.531474</td>\n",
       "      <td>NaN</td>\n",
       "    </tr>\n",
       "    <tr>\n",
       "      <th>1</th>\n",
       "      <td>9</td>\n",
       "      <td>0.000000</td>\n",
       "      <td>88.785622</td>\n",
       "      <td>2018-09-20 09:00:00</td>\n",
       "      <td>2018-09-20</td>\n",
       "      <td>Thursday</td>\n",
       "      <td>0</td>\n",
       "      <td>4.82</td>\n",
       "      <td>1.79</td>\n",
       "      <td>11.331923</td>\n",
       "      <td>NaN</td>\n",
       "    </tr>\n",
       "    <tr>\n",
       "      <th>2</th>\n",
       "      <td>10</td>\n",
       "      <td>10.000000</td>\n",
       "      <td>76.836119</td>\n",
       "      <td>2018-09-20 10:00:00</td>\n",
       "      <td>2018-09-20</td>\n",
       "      <td>Thursday</td>\n",
       "      <td>0</td>\n",
       "      <td>4.82</td>\n",
       "      <td>1.79</td>\n",
       "      <td>26.189487</td>\n",
       "      <td>NaN</td>\n",
       "    </tr>\n",
       "    <tr>\n",
       "      <th>3</th>\n",
       "      <td>11</td>\n",
       "      <td>10.000000</td>\n",
       "      <td>90.501904</td>\n",
       "      <td>2018-09-20 11:00:00</td>\n",
       "      <td>2018-09-20</td>\n",
       "      <td>Thursday</td>\n",
       "      <td>0</td>\n",
       "      <td>4.82</td>\n",
       "      <td>1.79</td>\n",
       "      <td>29.648204</td>\n",
       "      <td>NaN</td>\n",
       "    </tr>\n",
       "    <tr>\n",
       "      <th>4</th>\n",
       "      <td>12</td>\n",
       "      <td>9.871989</td>\n",
       "      <td>53.371114</td>\n",
       "      <td>2018-09-20 12:00:00</td>\n",
       "      <td>2018-09-20</td>\n",
       "      <td>Thursday</td>\n",
       "      <td>0</td>\n",
       "      <td>4.82</td>\n",
       "      <td>1.79</td>\n",
       "      <td>29.592628</td>\n",
       "      <td>NaN</td>\n",
       "    </tr>\n",
       "    <tr>\n",
       "      <th>...</th>\n",
       "      <td>...</td>\n",
       "      <td>...</td>\n",
       "      <td>...</td>\n",
       "      <td>...</td>\n",
       "      <td>...</td>\n",
       "      <td>...</td>\n",
       "      <td>...</td>\n",
       "      <td>...</td>\n",
       "      <td>...</td>\n",
       "      <td>...</td>\n",
       "      <td>...</td>\n",
       "    </tr>\n",
       "    <tr>\n",
       "      <th>195</th>\n",
       "      <td>13</td>\n",
       "      <td>10.000000</td>\n",
       "      <td>203.023765</td>\n",
       "      <td>2018-10-09 13:00:00</td>\n",
       "      <td>2018-10-09</td>\n",
       "      <td>Tuesday</td>\n",
       "      <td>0</td>\n",
       "      <td>4.82</td>\n",
       "      <td>4.03</td>\n",
       "      <td>28.521540</td>\n",
       "      <td>229.847270</td>\n",
       "    </tr>\n",
       "    <tr>\n",
       "      <th>196</th>\n",
       "      <td>14</td>\n",
       "      <td>10.000000</td>\n",
       "      <td>430.796721</td>\n",
       "      <td>2018-10-09 14:00:00</td>\n",
       "      <td>2018-10-09</td>\n",
       "      <td>Tuesday</td>\n",
       "      <td>0</td>\n",
       "      <td>4.82</td>\n",
       "      <td>4.03</td>\n",
       "      <td>28.508714</td>\n",
       "      <td>403.771517</td>\n",
       "    </tr>\n",
       "    <tr>\n",
       "      <th>197</th>\n",
       "      <td>15</td>\n",
       "      <td>8.864913</td>\n",
       "      <td>323.738772</td>\n",
       "      <td>2018-10-09 15:00:00</td>\n",
       "      <td>2018-10-09</td>\n",
       "      <td>Tuesday</td>\n",
       "      <td>0</td>\n",
       "      <td>4.82</td>\n",
       "      <td>4.03</td>\n",
       "      <td>34.019105</td>\n",
       "      <td>313.659863</td>\n",
       "    </tr>\n",
       "    <tr>\n",
       "      <th>198</th>\n",
       "      <td>16</td>\n",
       "      <td>0.000000</td>\n",
       "      <td>332.779813</td>\n",
       "      <td>2018-10-09 16:00:00</td>\n",
       "      <td>2018-10-09</td>\n",
       "      <td>Tuesday</td>\n",
       "      <td>0</td>\n",
       "      <td>4.82</td>\n",
       "      <td>4.03</td>\n",
       "      <td>32.231667</td>\n",
       "      <td>279.090065</td>\n",
       "    </tr>\n",
       "    <tr>\n",
       "      <th>199</th>\n",
       "      <td>17</td>\n",
       "      <td>0.000000</td>\n",
       "      <td>165.606740</td>\n",
       "      <td>2018-10-09 17:00:00</td>\n",
       "      <td>2018-10-09</td>\n",
       "      <td>Tuesday</td>\n",
       "      <td>0</td>\n",
       "      <td>4.82</td>\n",
       "      <td>4.03</td>\n",
       "      <td>32.263462</td>\n",
       "      <td>153.844368</td>\n",
       "    </tr>\n",
       "  </tbody>\n",
       "</table>\n",
       "<p>200 rows × 11 columns</p>\n",
       "</div>"
      ],
      "text/plain": [
       "     Hour      Point      Energy            Timestamp        Date Day of Week  \\\n",
       "0       8   0.000000   58.383468  2018-09-20 08:00:00  2018-09-20    Thursday   \n",
       "1       9   0.000000   88.785622  2018-09-20 09:00:00  2018-09-20    Thursday   \n",
       "2      10  10.000000   76.836119  2018-09-20 10:00:00  2018-09-20    Thursday   \n",
       "3      11  10.000000   90.501904  2018-09-20 11:00:00  2018-09-20    Thursday   \n",
       "4      12   9.871989   53.371114  2018-09-20 12:00:00  2018-09-20    Thursday   \n",
       "..    ...        ...         ...                  ...         ...         ...   \n",
       "195    13  10.000000  203.023765  2018-10-09 13:00:00  2018-10-09     Tuesday   \n",
       "196    14  10.000000  430.796721  2018-10-09 14:00:00  2018-10-09     Tuesday   \n",
       "197    15   8.864913  323.738772  2018-10-09 15:00:00  2018-10-09     Tuesday   \n",
       "198    16   0.000000  332.779813  2018-10-09 16:00:00  2018-10-09     Tuesday   \n",
       "199    17   0.000000  165.606740  2018-10-09 17:00:00  2018-10-09     Tuesday   \n",
       "\n",
       "     Out_of_Office  Presurvey  Weekly_Survey  Before_Game_Baseline  \\\n",
       "0                0       4.82           1.79              8.531474   \n",
       "1                0       4.82           1.79             11.331923   \n",
       "2                0       4.82           1.79             26.189487   \n",
       "3                0       4.82           1.79             29.648204   \n",
       "4                0       4.82           1.79             29.592628   \n",
       "..             ...        ...            ...                   ...   \n",
       "195              0       4.82           4.03             28.521540   \n",
       "196              0       4.82           4.03             28.508714   \n",
       "197              0       4.82           4.03             34.019105   \n",
       "198              0       4.82           4.03             32.231667   \n",
       "199              0       4.82           4.03             32.263462   \n",
       "\n",
       "     In_Game_Baseline  \n",
       "0                 NaN  \n",
       "1                 NaN  \n",
       "2                 NaN  \n",
       "3                 NaN  \n",
       "4                 NaN  \n",
       "..                ...  \n",
       "195        229.847270  \n",
       "196        403.771517  \n",
       "197        313.659863  \n",
       "198        279.090065  \n",
       "199        153.844368  \n",
       "\n",
       "[200 rows x 11 columns]"
      ]
     },
     "execution_count": 5,
     "metadata": {},
     "output_type": "execute_result"
    }
   ],
   "source": [
    "df.head(200)"
   ]
  },
  {
   "cell_type": "markdown",
   "metadata": {},
   "source": [
    "# Preprocessing"
   ]
  },
  {
   "cell_type": "markdown",
   "metadata": {},
   "source": [
    "## First Check Stationarity of Time Series"
   ]
  },
  {
   "cell_type": "markdown",
   "metadata": {},
   "source": [
    "Time series are stationary if they do not have trend or seasonal effects. Summary statistics calculated on the time series are consistent over time, like the mean or the variance of the observations.\n",
    "\n",
    "When a time series is stationary, it can be easier to model. Statistical modeling methods assume or require the time series to be stationary to be effective."
   ]
  },
  {
   "cell_type": "markdown",
   "metadata": {},
   "source": [
    "We use the Dickey-Fuller test to test of our time series is stationary."
   ]
  },
  {
   "cell_type": "markdown",
   "metadata": {},
   "source": [
    "### Dickey-Fuller Test"
   ]
  },
  {
   "cell_type": "code",
   "execution_count": 43,
   "metadata": {
    "ExecuteTime": {
     "end_time": "2020-06-19T09:42:33.091378Z",
     "start_time": "2020-06-19T09:42:32.952056Z"
    }
   },
   "outputs": [],
   "source": [
    "from statsmodels.tsa.stattools import adfuller"
   ]
  },
  {
   "cell_type": "code",
   "execution_count": 44,
   "metadata": {
    "ExecuteTime": {
     "end_time": "2020-06-19T09:42:33.548640Z",
     "start_time": "2020-06-19T09:42:33.546176Z"
    }
   },
   "outputs": [],
   "source": [
    "X = df['Energy']"
   ]
  },
  {
   "cell_type": "code",
   "execution_count": 45,
   "metadata": {
    "ExecuteTime": {
     "end_time": "2020-06-19T09:42:34.166930Z",
     "start_time": "2020-06-19T09:42:34.099287Z"
    }
   },
   "outputs": [
    {
     "name": "stdout",
     "output_type": "stream",
     "text": [
      "ADF Statistic: -15.823925\n",
      "p-value: 0.000000\n",
      "Critical Values:\n",
      "\t1%: -3.431\n",
      "\t5%: -2.862\n",
      "\t10%: -2.567\n"
     ]
    }
   ],
   "source": [
    "result = adfuller(X)\n",
    "print('ADF Statistic: %f' % result[0])\n",
    "print('p-value: %f' % result[1])\n",
    "print('Critical Values:')\n",
    "for key, value in result[4].items():\n",
    "\tprint('\\t%s: %.3f' % (key, value))"
   ]
  },
  {
   "cell_type": "markdown",
   "metadata": {},
   "source": [
    "Since the p-value is less than 0.05, we can reject the null-hypothesis, and proceed with our analysis."
   ]
  },
  {
   "cell_type": "code",
   "execution_count": 19,
   "metadata": {
    "ExecuteTime": {
     "end_time": "2020-06-19T09:42:36.957994Z",
     "start_time": "2020-06-19T09:42:36.954627Z"
    }
   },
   "outputs": [],
   "source": [
    "encoder = LabelEncoder()\n",
    "df[\"Day of Week\"] = encoder.fit_transform(df[\"Day of Week\"])"
   ]
  },
  {
   "cell_type": "markdown",
   "metadata": {},
   "source": [
    "## Remove extra columns"
   ]
  },
  {
   "cell_type": "code",
   "execution_count": 20,
   "metadata": {
    "ExecuteTime": {
     "end_time": "2020-06-19T09:42:38.034119Z",
     "start_time": "2020-06-19T09:42:38.019287Z"
    }
   },
   "outputs": [
    {
     "data": {
      "text/html": [
       "<div>\n",
       "<style scoped>\n",
       "    .dataframe tbody tr th:only-of-type {\n",
       "        vertical-align: middle;\n",
       "    }\n",
       "\n",
       "    .dataframe tbody tr th {\n",
       "        vertical-align: top;\n",
       "    }\n",
       "\n",
       "    .dataframe thead th {\n",
       "        text-align: right;\n",
       "    }\n",
       "</style>\n",
       "<table border=\"1\" class=\"dataframe\">\n",
       "  <thead>\n",
       "    <tr style=\"text-align: right;\">\n",
       "      <th></th>\n",
       "      <th>Point</th>\n",
       "      <th>Day of Week</th>\n",
       "      <th>Out_of_Office</th>\n",
       "      <th>Energy</th>\n",
       "    </tr>\n",
       "    <tr>\n",
       "      <th>Timestamp</th>\n",
       "      <th></th>\n",
       "      <th></th>\n",
       "      <th></th>\n",
       "      <th></th>\n",
       "    </tr>\n",
       "  </thead>\n",
       "  <tbody>\n",
       "    <tr>\n",
       "      <th>2018-09-20 08:00:00</th>\n",
       "      <td>0.000000</td>\n",
       "      <td>4</td>\n",
       "      <td>0</td>\n",
       "      <td>58.383468</td>\n",
       "    </tr>\n",
       "    <tr>\n",
       "      <th>2018-09-20 09:00:00</th>\n",
       "      <td>0.000000</td>\n",
       "      <td>4</td>\n",
       "      <td>0</td>\n",
       "      <td>88.785622</td>\n",
       "    </tr>\n",
       "    <tr>\n",
       "      <th>2018-09-20 10:00:00</th>\n",
       "      <td>10.000000</td>\n",
       "      <td>4</td>\n",
       "      <td>0</td>\n",
       "      <td>76.836119</td>\n",
       "    </tr>\n",
       "    <tr>\n",
       "      <th>2018-09-20 11:00:00</th>\n",
       "      <td>10.000000</td>\n",
       "      <td>4</td>\n",
       "      <td>0</td>\n",
       "      <td>90.501904</td>\n",
       "    </tr>\n",
       "    <tr>\n",
       "      <th>2018-09-20 12:00:00</th>\n",
       "      <td>9.871989</td>\n",
       "      <td>4</td>\n",
       "      <td>0</td>\n",
       "      <td>53.371114</td>\n",
       "    </tr>\n",
       "  </tbody>\n",
       "</table>\n",
       "</div>"
      ],
      "text/plain": [
       "                         Point  Day of Week  Out_of_Office     Energy\n",
       "Timestamp                                                            \n",
       "2018-09-20 08:00:00   0.000000            4              0  58.383468\n",
       "2018-09-20 09:00:00   0.000000            4              0  88.785622\n",
       "2018-09-20 10:00:00  10.000000            4              0  76.836119\n",
       "2018-09-20 11:00:00  10.000000            4              0  90.501904\n",
       "2018-09-20 12:00:00   9.871989            4              0  53.371114"
      ]
     },
     "execution_count": 20,
     "metadata": {},
     "output_type": "execute_result"
    }
   ],
   "source": [
    "df = (df[['Timestamp', 'Point', 'Day of Week', 'Out_of_Office', \"Energy\"]] # \"tempC\", 'precipMM', 'humidity', 'Energy']]\n",
    "       .set_index('Timestamp'))\n",
    "df.head()"
   ]
  },
  {
   "cell_type": "code",
   "execution_count": 21,
   "metadata": {},
   "outputs": [
    {
     "data": {
      "text/plain": [
       "(16867, 4)"
      ]
     },
     "execution_count": 21,
     "metadata": {},
     "output_type": "execute_result"
    }
   ],
   "source": [
    "df.shape"
   ]
  },
  {
   "cell_type": "markdown",
   "metadata": {},
   "source": [
    "## Check for nan values"
   ]
  },
  {
   "cell_type": "code",
   "execution_count": 22,
   "metadata": {
    "ExecuteTime": {
     "end_time": "2020-06-19T09:42:40.361753Z",
     "start_time": "2020-06-19T09:42:40.357403Z"
    }
   },
   "outputs": [
    {
     "data": {
      "text/plain": [
       "False"
      ]
     },
     "execution_count": 22,
     "metadata": {},
     "output_type": "execute_result"
    }
   ],
   "source": [
    "df.isnull().values.any()"
   ]
  },
  {
   "cell_type": "markdown",
   "metadata": {},
   "source": [
    "## `series_to_supervised` (Time lag function)"
   ]
  },
  {
   "cell_type": "code",
   "execution_count": 23,
   "metadata": {
    "ExecuteTime": {
     "end_time": "2020-06-20T01:50:10.294859Z",
     "start_time": "2020-06-20T01:50:10.283649Z"
    }
   },
   "outputs": [],
   "source": [
    "def series_to_supervised(data,\n",
    "                         n_in,\n",
    "                         target_features,\n",
    "                         col_names=None,\n",
    "                         n_out=1,\n",
    "                         dropnan=True,\n",
    "                         initial_excluded_timesteps=0,\n",
    "                         removed_features=[],\n",
    "                         only_current_timestep_features=[]):\n",
    "    \"\"\"Takes time series data and converts it into a supervised learning\n",
    "    problem framework.\n",
    "\n",
    "        Parameters:\n",
    "            - data (pd.Dataframe) -- the time series data to be converted.\n",
    "            - n_in (int) -- Number of time steps to use as lag for the feature \n",
    "                matrix\n",
    "            - col_names (List[str]) -- list of strings to use as column names,\n",
    "                that get converted into features for each time lag\n",
    "            - target_features (List[str]) -- List of features that will be used\n",
    "                as dependent variables in the target matrix.\n",
    "            - n_out (int) -- Number of time steps to use as lag for the target\n",
    "                matrix\n",
    "            - dropnan (bool) -- Whether to drop nan values\n",
    "            - initial_excluded_timesteps (int) -- The number of input timesteps to \n",
    "                ignore before starting the time lag.\n",
    "            - removed_features (List[str]) -- List of features that should be removed\n",
    "                from the dataframe. \n",
    "            - only_current_timestep_features (List[str]) -- Features that should\n",
    "            only be included in the current timestep, not any before (e.g.) to avoid\n",
    "            unintended dependencies\n",
    "            \n",
    "            - [Planned] exclude_current_day (bool) -- Whether to include values \n",
    "                from the current day. If this parameter is false, then the time lag \n",
    "                will always start with the day preceding the current time \n",
    "                step.\n",
    "                \n",
    "        Outputs:\n",
    "            - (X, y): (Feature matrix, target matrix)\n",
    "    \"\"\"\n",
    "    \n",
    "    if col_names is None:\n",
    "        col_names = data.columns\n",
    "        \n",
    "    n_vars = 1 if type(data) is list else data.shape[1]\n",
    "    df = pd.DataFrame(data).drop(removed_features, axis=1)\n",
    "    col_names = [x for x in col_names if x not in removed_features]\n",
    "    cols, names = list(), list()      \n",
    "        \n",
    "    only_prev_time_features = df.drop(only_current_timestep_features, axis=1)\n",
    "    only_prev_column_names = [x for x in col_names if x in only_prev_time_features.columns]\n",
    "\n",
    "    # (t-n, ... t-1) --> i.e. steps into the past\n",
    "    for i in range(n_in + initial_excluded_timesteps, initial_excluded_timesteps, -1):\n",
    "        cols.append(only_prev_time_features.shift(i))\n",
    "        names += [('%s(t-%d)' % (col, i)) for col in only_prev_column_names]\n",
    "\n",
    "    # (t, t+1, ... t+n) --> i.e. steps into the future\n",
    "    for i in range(0, n_out):\n",
    "        cols.append(df.shift(-i))\n",
    "        if i == 0:\n",
    "            names += [('%s(t)' % (col)) for col in col_names]\n",
    "        else:\n",
    "            names += [('%s(t + %d)' % (col, i)) for col in col_names]\n",
    "\n",
    "    # concat\n",
    "    agg = pd.concat(cols, axis=1)\n",
    "#     agg.columns = names\n",
    "\n",
    "    # dropnan\n",
    "    if dropnan:\n",
    "        agg.dropna(inplace=True)\n",
    "        \n",
    "    Y_vals_cols = ([('%s(t)' % (col)) for col in target_features] + \n",
    "        ['%s(t + %d)' % (col, i) for col in target_features for i in range(1, n_out)])\n",
    "    \n",
    "    agg.columns = names\n",
    "    \n",
    "    Y_vals = agg[Y_vals_cols]\n",
    "    X_vals = agg.drop(Y_vals_cols, axis=1)\n",
    "        \n",
    "    return X_vals.values, Y_vals.values"
   ]
  },
  {
   "cell_type": "markdown",
   "metadata": {},
   "source": [
    "## Make a scaled dataframe"
   ]
  },
  {
   "cell_type": "code",
   "execution_count": 24,
   "metadata": {
    "ExecuteTime": {
     "end_time": "2020-06-20T00:55:56.422434Z",
     "start_time": "2020-06-20T00:55:56.413229Z"
    }
   },
   "outputs": [],
   "source": [
    "df_y = df[\"Energy\"]\n",
    "df_X = df.drop(\"Energy\", axis = 1)\n",
    "\n",
    "scaler_X = MinMaxScaler(feature_range = (0, 1))\n",
    "scaler_y = MinMaxScaler(feature_range = (0, 1))\n",
    "\n",
    "df_y = df_y.astype(\"float32\")\n",
    "df_X = df_X.astype(\"float32\")\n",
    "\n",
    "scaled = pd.DataFrame(scaler_X.fit_transform(df_X), columns = df_X.columns)\n",
    "scaled_y = scaler_y.fit_transform(np.reshape(df_y.values, (-1, 1)))\n",
    "\n",
    "scaled['Energy'] = scaled_y"
   ]
  },
  {
   "cell_type": "markdown",
   "metadata": {},
   "source": [
    "# Benchmark Testing"
   ]
  },
  {
   "cell_type": "markdown",
   "metadata": {},
   "source": [
    "## Model evaluation metrics"
   ]
  },
  {
   "cell_type": "code",
   "execution_count": 25,
   "metadata": {
    "ExecuteTime": {
     "end_time": "2020-06-12T00:28:34.210408Z",
     "start_time": "2020-06-12T00:28:34.204292Z"
    }
   },
   "outputs": [],
   "source": [
    "from sklearn.metrics import mean_squared_error, mean_absolute_error\n",
    "from math import sqrt\n",
    "\n",
    "def rmse(predicted_y, actual_y):\n",
    "    return sqrt(mean_squared_error(actual_y, predicted_y))\n",
    "\n",
    "def cv_rmse(predicted_y, actual_y):\n",
    "    \"\"\"This measures the coefficient of variation, which is the RMSE normalized by \n",
    "    the mean of the measured values and quantifies typical size of the error \n",
    "    relative to the mean of the observations. A high CV score indicates that a \n",
    "    model has a high error range.\n",
    "    \"\"\"\n",
    "    return rmse(predicted_y, actual_y) / sqrt(np.mean(actual_y))\n",
    "\n",
    "def mae(predicted_y, actual_y):\n",
    "    return mean_absolute_error(actual_y, predicted_y)\n",
    "\n",
    "evaluation_methods = [rmse, cv_rmse, mae]"
   ]
  },
  {
   "cell_type": "markdown",
   "metadata": {},
   "source": [
    "## KNN"
   ]
  },
  {
   "cell_type": "markdown",
   "metadata": {},
   "source": [
    "## Random Forests"
   ]
  },
  {
   "cell_type": "markdown",
   "metadata": {},
   "source": [
    "## Gradient Boosting"
   ]
  },
  {
   "cell_type": "markdown",
   "metadata": {},
   "source": [
    "## Standard NN"
   ]
  },
  {
   "cell_type": "markdown",
   "metadata": {},
   "source": [
    "## Extra Trees Regressor"
   ]
  },
  {
   "cell_type": "markdown",
   "metadata": {},
   "source": [
    "# Model Selection"
   ]
  },
  {
   "cell_type": "markdown",
   "metadata": {},
   "source": [
    "## Genetic algorithm to find optimal amount of time lag"
   ]
  },
  {
   "cell_type": "markdown",
   "metadata": {},
   "source": [
    "## Exploring AutoML"
   ]
  },
  {
   "cell_type": "markdown",
   "metadata": {},
   "source": [
    "## Exploring Bayesian Optimization (gyopt)"
   ]
  },
  {
   "cell_type": "code",
   "execution_count": 26,
   "metadata": {
    "ExecuteTime": {
     "end_time": "2020-06-20T01:44:12.215590Z",
     "start_time": "2020-06-20T01:44:11.975129Z"
    }
   },
   "outputs": [],
   "source": [
    "import GPy, GPyOpt"
   ]
  },
  {
   "cell_type": "code",
   "execution_count": 34,
   "metadata": {
    "ExecuteTime": {
     "end_time": "2020-06-20T02:04:21.700999Z",
     "start_time": "2020-06-20T02:04:21.686595Z"
    }
   },
   "outputs": [],
   "source": [
    "from sklearn.model_selection import train_test_split\n",
    "\n",
    "class Network:\n",
    "    def __init__(self, \n",
    "                 network_size, \n",
    "                 epochs, \n",
    "                 batch_size,\n",
    "                 number_of_timesteps,\n",
    "                 num_lstm_layers,\n",
    "                 validation_split,\n",
    "                ):\n",
    "        \n",
    "        self.network_size = network_size\n",
    "        self.epochs = epochs\n",
    "        self.batch_size = batch_size\n",
    "        self.number_of_timesteps = number_of_timesteps\n",
    "        self.num_lstm_layers = num_lstm_layers\n",
    "        self.validation_split = validation_split\n",
    "        \n",
    "        self.X_train, self.X_test, self.y_train, self.y_test = self.network_data()\n",
    "        self.model = self.lstm_model()\n",
    "        \n",
    "   # load network data\n",
    "    def network_data(self):\n",
    "        supervised_X, supervised_y = series_to_supervised(data = scaled, target_features = ['Energy'], \n",
    "                                only_current_timestep_features=['Point'],\n",
    "                                initial_excluded_timesteps=10,\n",
    "                                col_names = df.columns.tolist(), \n",
    "                                n_in = self.number_of_timesteps,\n",
    "                                n_out = 1)\n",
    "        X_train, X_test, y_train, y_test = train_test_split(supervised_X, supervised_y, \n",
    "                                                            test_size=0.33, random_state=42)\n",
    "        \n",
    "        X_train = X_train.reshape((X_train.shape[0], 1, X_train.shape[1]))\n",
    "        X_test = X_test.reshape((X_test.shape[0], 1, X_test.shape[1]))\n",
    "        \n",
    "        return X_train, X_test, y_train, y_test\n",
    "    \n",
    "    def lstm_model(self):\n",
    "        model = Sequential()\n",
    "        for _ in range(self.num_lstm_layers - 1):\n",
    "            model.add(LSTM(self.network_size, input_shape = (self.X_train.shape[1], self.X_train.shape[2]), \n",
    "                           return_sequences = True))\n",
    "        model.add(LSTM(128, return_sequences = False))\n",
    "        model.add(Dense(1))\n",
    "        model.compile(loss=\"mse\", optimizer=\"adam\")\n",
    "        \n",
    "        return model\n",
    "    \n",
    "    def model_fit(self):\n",
    "#         early_stopping = EarlyStopping(patience=0, verbose=1)\n",
    "        # fit network\n",
    "        self.model.fit(\n",
    "            self.X_train,\n",
    "            self.y_train,\n",
    "            epochs=self.epochs,\n",
    "            batch_size=self.batch_size,\n",
    "            validation_split=self.validation_split,\n",
    "            verbose=0,\n",
    "#             callbacks=[early_stopping],\n",
    "        )\n",
    "        \n",
    "    def model_evaluate(self):\n",
    "        self.model_fit()\n",
    "    \n",
    "#         evaluation = self.model.evaluate(self.X_test, self.y_test, batch_size=self.batch_size, verbose=0)\n",
    "        yhat = self.model.predict(self.X_test)\n",
    "        # %%\n",
    "        # invert scaling for forecast\n",
    "        inv_yhat = scaler_y.inverse_transform(yhat)\n",
    "        inv_yhat = inv_yhat[:, -1]\n",
    "\n",
    "        #%%\n",
    "        # invert scaling for actual\n",
    "        temp_y_test = self.y_test.reshape((len(self.y_test), 1))\n",
    "        inv_y = scaler_y.inverse_transform(temp_y_test)\n",
    "        inv_y = inv_y[:, -1]\n",
    "\n",
    "        # calculate RMSE\n",
    "        \n",
    "        rmse = math.sqrt(mean_squared_error(inv_y, inv_yhat))\n",
    "        return rmse"
   ]
  },
  {
   "cell_type": "code",
   "execution_count": 35,
   "metadata": {
    "ExecuteTime": {
     "end_time": "2020-06-20T02:04:22.491656Z",
     "start_time": "2020-06-20T02:04:22.488660Z"
    }
   },
   "outputs": [],
   "source": [
    "def run_lstm(network_size=128, \n",
    "             epochs=50, \n",
    "             batch_size=256,\n",
    "             number_of_timesteps=20,\n",
    "             num_lstm_layers=2,\n",
    "             validation_split=0.1):\n",
    "    \n",
    "    _model = Network(network_size, \n",
    "                     epochs, \n",
    "                     batch_size,\n",
    "                     number_of_timesteps,\n",
    "                     num_lstm_layers,\n",
    "                     validation_split)\n",
    "    model_evaluation = _model.model_evaluate()\n",
    "    return model_evaluation"
   ]
  },
  {
   "cell_type": "code",
   "execution_count": 36,
   "metadata": {
    "ExecuteTime": {
     "end_time": "2020-06-20T02:04:24.915555Z",
     "start_time": "2020-06-20T02:04:23.218603Z"
    }
   },
   "outputs": [
    {
     "data": {
      "text/plain": [
       "40.0053798872336"
      ]
     },
     "execution_count": 36,
     "metadata": {},
     "output_type": "execute_result"
    }
   ],
   "source": [
    "run_lstm()"
   ]
  },
  {
   "cell_type": "code",
   "execution_count": 53,
   "metadata": {
    "ExecuteTime": {
     "end_time": "2020-06-20T02:04:31.964360Z",
     "start_time": "2020-06-20T02:04:31.959253Z"
    }
   },
   "outputs": [],
   "source": [
    "# the bounds dict should be in order of continuous type and then discrete type\n",
    "bounds = [{'name': 'validation_split', 'type': 'continuous',  'domain': (0.0, 0.3)},\n",
    "          {'name': 'network_size', 'type': 'discrete',  'domain': (128, 256, 512, 1024)},\n",
    "        {'name': 'epochs',           'type': 'discrete',    'domain': (5, 10, 20, 50, 100)},\n",
    "          {'name': 'batch_size',       'type': 'discrete',    'domain': (10, 100, 500)},\n",
    "          {'name': 'number_of_timesteps', 'type': 'discrete',  'domain': (5, 10, 20, 40)},\n",
    "          {'name': 'num_lstm_layers', 'type': 'discrete',  'domain': (1, 2, 3, 4, 5, 6)}]"
   ]
  },
  {
   "cell_type": "code",
   "execution_count": 54,
   "metadata": {
    "ExecuteTime": {
     "end_time": "2020-06-20T02:04:32.824556Z",
     "start_time": "2020-06-20T02:04:32.820186Z"
    }
   },
   "outputs": [],
   "source": [
    "def f(x):\n",
    "    print(x)\n",
    "    evaluation = run_lstm(\n",
    "        network_size=int(x[:,1]), \n",
    "        epochs = int(x[:,2]), \n",
    "        batch_size = int(x[:,3]),\n",
    "        number_of_timesteps = int(x[:,4]), \n",
    "        num_lstm_layers = int(x[:,5]),  \n",
    "        validation_split = float(x[:,0]))\n",
    "    print(\"LOSS:\\t{0}\".format(evaluation))\n",
    "    print(evaluation)\n",
    "    return evaluation"
   ]
  },
  {
   "cell_type": "code",
   "execution_count": 55,
   "metadata": {
    "ExecuteTime": {
     "end_time": "2020-06-20T02:04:49.113054Z",
     "start_time": "2020-06-20T02:04:33.635670Z"
    }
   },
   "outputs": [
    {
     "name": "stdout",
     "output_type": "stream",
     "text": [
      "[[2.2217384e-01 1.0240000e+03 2.0000000e+01 1.0000000e+01 5.0000000e+00\n",
      "  6.0000000e+00]]\n",
      "LOSS:\t44.42383289081366\n",
      "44.42383289081366\n",
      "[[  0.18890399 128.           5.          10.          10.\n",
      "    5.        ]]\n",
      "LOSS:\t45.78570264183187\n",
      "45.78570264183187\n",
      "[[9.49165818e-03 5.12000000e+02 1.00000000e+02 1.00000000e+01\n",
      "  5.00000000e+00 1.00000000e+00]]\n",
      "LOSS:\t50.329066080925095\n",
      "50.329066080925095\n",
      "[[1.23187971e-01 5.12000000e+02 1.00000000e+01 1.00000000e+01\n",
      "  1.00000000e+01 4.00000000e+00]]\n",
      "LOSS:\t41.70941199331543\n",
      "41.70941199331543\n",
      "[[1.61178515e-01 1.02400000e+03 2.00000000e+01 1.00000000e+01\n",
      "  2.00000000e+01 5.00000000e+00]]\n",
      "LOSS:\t37.30455579165231\n",
      "37.30455579165231\n"
     ]
    }
   ],
   "source": [
    "opt_lstm = GPyOpt.methods.BayesianOptimization(f=f, domain=bounds)"
   ]
  },
  {
   "cell_type": "code",
   "execution_count": 43,
   "metadata": {
    "ExecuteTime": {
     "end_time": "2020-06-20T02:05:20.815628Z",
     "start_time": "2020-06-20T02:04:51.342863Z"
    }
   },
   "outputs": [],
   "source": [
    "opt_lstm.run_optimization(max_iter=100)"
   ]
  },
  {
   "cell_type": "code",
   "execution_count": 42,
   "metadata": {
    "ExecuteTime": {
     "end_time": "2020-06-20T02:05:30.160224Z",
     "start_time": "2020-06-20T02:05:30.154968Z"
    }
   },
   "outputs": [
    {
     "name": "stdout",
     "output_type": "stream",
     "text": [
      "\n",
      "Optimized Parameters:\n",
      "\tvalidation_split:\t0.3\n",
      "\tnetwork_size:\t128.0\n",
      "\tepochs:\t50.0\n",
      "\tbatch_size:\t100.0\n",
      "\tnumber_of_timesteps:\t40.0\n",
      "\tnum_lstm_layers:\t1.0\n",
      "\n",
      "optimized loss: 26.59267816949926\n"
     ]
    }
   ],
   "source": [
    "print(\"\"\"\n",
    "Optimized Parameters:\n",
    "\\t{0}:\\t{1}\n",
    "\\t{2}:\\t{3}\n",
    "\\t{4}:\\t{5}\n",
    "\\t{6}:\\t{7}\n",
    "\\t{8}:\\t{9}\n",
    "\\t{10}:\\t{11}\n",
    "\"\"\".format(bounds[0][\"name\"],opt_lstm.x_opt[0],\n",
    "           bounds[1][\"name\"],opt_lstm.x_opt[1],\n",
    "           bounds[2][\"name\"],opt_lstm.x_opt[2],\n",
    "           bounds[3][\"name\"],opt_lstm.x_opt[3],\n",
    "           bounds[4][\"name\"],opt_lstm.x_opt[4],\n",
    "           bounds[5][\"name\"],opt_lstm.x_opt[5],))\n",
    "print(\"optimized loss: {0}\".format(opt_lstm.fx_opt))"
   ]
  },
  {
   "cell_type": "code",
   "execution_count": 50,
   "metadata": {},
   "outputs": [],
   "source": [
    "opt_lstm.save_models(\"opt_lstm_1.csv\")"
   ]
  },
  {
   "cell_type": "markdown",
   "metadata": {},
   "source": [
    "### testing loading and predicting with the model"
   ]
  },
  {
   "cell_type": "code",
   "execution_count": 52,
   "metadata": {},
   "outputs": [
    {
     "data": {
      "text/html": [
       "<div>\n",
       "<style scoped>\n",
       "    .dataframe tbody tr th:only-of-type {\n",
       "        vertical-align: middle;\n",
       "    }\n",
       "\n",
       "    .dataframe tbody tr th {\n",
       "        vertical-align: top;\n",
       "    }\n",
       "\n",
       "    .dataframe thead th {\n",
       "        text-align: right;\n",
       "    }\n",
       "</style>\n",
       "<table border=\"1\" class=\"dataframe\">\n",
       "  <thead>\n",
       "    <tr style=\"text-align: right;\">\n",
       "      <th></th>\n",
       "      <th>Iteration</th>\n",
       "      <th>GP_regression.Mat52.variance</th>\n",
       "      <th>GP_regression.Mat52.lengthscale</th>\n",
       "      <th>GP_regression.Gaussian_noise.variance</th>\n",
       "    </tr>\n",
       "  </thead>\n",
       "  <tbody>\n",
       "    <tr>\n",
       "      <th>0</th>\n",
       "      <td>1.0</td>\n",
       "      <td>1.556916</td>\n",
       "      <td>36.887901</td>\n",
       "      <td>0.000216</td>\n",
       "    </tr>\n",
       "  </tbody>\n",
       "</table>\n",
       "</div>"
      ],
      "text/plain": [
       "   Iteration  GP_regression.Mat52.variance  GP_regression.Mat52.lengthscale  \\\n",
       "0        1.0                      1.556916                        36.887901   \n",
       "\n",
       "   GP_regression.Gaussian_noise.variance  \n",
       "0                               0.000216  "
      ]
     },
     "execution_count": 52,
     "metadata": {},
     "output_type": "execute_result"
    }
   ],
   "source": [
    "loaded_model = pd.read_csv(\"opt_lstm_1.csv\", sep = \"\\t\")\n",
    "loaded_model"
   ]
  },
  {
   "cell_type": "markdown",
   "metadata": {},
   "source": [
    "### Training an \"optimal\" LSTM\n"
   ]
  },
  {
   "cell_type": "code",
   "execution_count": null,
   "metadata": {
    "collapsed": true
   },
   "outputs": [],
   "source": [
    "optimal_lstm = Network(network_size = opt_lstm.x_opt[0], \n",
    "                     epochs = opt_lstm.x_opt[1], \n",
    "                     batch_size = opt_lstm.x_opt[2],\n",
    "                     number_of_timesteps = opt_lstm.x_opt[3],\n",
    "                     num_lstm_layers = opt_lstm.x_opt[4],\n",
    "                     validation_split = opt_lstm.x_opt[5])\n",
    "optimal_lstm.model_fit()\n",
    "\n",
    "model_json = optimal_lstm.to_json()\n",
    "with open(\"opt_planning_model.json\", \"w\") as json_file:\n",
    "    json_file.write(model_json)\n",
    "# serialize weights to HDF5\n",
    "model.save_weights(\"baselines-RAISE/baselines/akash_baselines/opt_planning_model.h5\")\n",
    "print(\"Saved model to disk\")"
   ]
  },
  {
   "cell_type": "markdown",
   "metadata": {},
   "source": [
    "# GA-augmented LSTM-RNN model"
   ]
  },
  {
   "cell_type": "markdown",
   "metadata": {},
   "source": [
    "# LSTM-GAN Testing"
   ]
  },
  {
   "cell_type": "code",
   "execution_count": null,
   "metadata": {},
   "outputs": [],
   "source": []
  }
 ],
 "metadata": {
  "kernelspec": {
   "display_name": "Python 3",
   "language": "python",
   "name": "python3"
  },
  "language_info": {
   "codemirror_mode": {
    "name": "ipython",
    "version": 3
   },
   "file_extension": ".py",
   "mimetype": "text/x-python",
   "name": "python",
   "nbconvert_exporter": "python",
   "pygments_lexer": "ipython3",
   "version": "3.6.5"
  },
  "toc": {
   "base_numbering": 1,
   "nav_menu": {
    "height": "220px",
    "width": "539px"
   },
   "number_sections": true,
   "sideBar": true,
   "skip_h1_title": false,
   "title_cell": "Table of Contents",
   "title_sidebar": "Contents",
   "toc_cell": false,
   "toc_position": {
    "height": "calc(100% - 180px)",
    "left": "10px",
    "top": "150px",
    "width": "307px"
   },
   "toc_section_display": true,
   "toc_window_display": true
  },
  "varInspector": {
   "cols": {
    "lenName": 16,
    "lenType": 16,
    "lenVar": 40
   },
   "kernels_config": {
    "python": {
     "delete_cmd_postfix": "",
     "delete_cmd_prefix": "del ",
     "library": "var_list.py",
     "varRefreshCmd": "print(var_dic_list())"
    },
    "r": {
     "delete_cmd_postfix": ") ",
     "delete_cmd_prefix": "rm(",
     "library": "var_list.r",
     "varRefreshCmd": "cat(var_dic_list()) "
    }
   },
   "types_to_exclude": [
    "module",
    "function",
    "builtin_function_or_method",
    "instance",
    "_Feature"
   ],
   "window_display": false
  }
 },
 "nbformat": 4,
 "nbformat_minor": 4
}
