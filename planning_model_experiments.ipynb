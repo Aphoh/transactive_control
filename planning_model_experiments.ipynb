{
 "cells": [
  {
   "cell_type": "code",
   "execution_count": 1,
   "metadata": {
    "ExecuteTime": {
     "end_time": "2020-06-11T23:55:50.275028Z",
     "start_time": "2020-06-11T23:55:47.909020Z"
    }
   },
   "outputs": [
    {
     "name": "stdout",
     "output_type": "stream",
     "text": [
      "Requirement already satisfied: wwo_hist in /Users/mkhattar/anaconda3/lib/python3.7/site-packages (0.0.5)\r\n"
     ]
    }
   ],
   "source": [
    "import sys\n",
    "!{sys.executable} -m pip install wwo_hist"
   ]
  },
  {
   "cell_type": "code",
   "execution_count": 2,
   "metadata": {
    "ExecuteTime": {
     "end_time": "2020-06-11T23:55:52.385861Z",
     "start_time": "2020-06-11T23:55:51.398362Z"
    }
   },
   "outputs": [],
   "source": [
    "import numpy as np\n",
    "import pandas as pd\n",
    "\n",
    "import wwo_hist\n",
    "from sklearn.preprocessing import LabelEncoder, MinMaxScaler"
   ]
  },
  {
   "cell_type": "code",
   "execution_count": 5,
   "metadata": {
    "ExecuteTime": {
     "end_time": "2020-06-11T23:59:14.875735Z",
     "start_time": "2020-06-11T23:59:14.818667Z"
    }
   },
   "outputs": [
    {
     "data": {
      "text/html": [
       "<div>\n",
       "<style scoped>\n",
       "    .dataframe tbody tr th:only-of-type {\n",
       "        vertical-align: middle;\n",
       "    }\n",
       "\n",
       "    .dataframe tbody tr th {\n",
       "        vertical-align: top;\n",
       "    }\n",
       "\n",
       "    .dataframe thead th {\n",
       "        text-align: right;\n",
       "    }\n",
       "</style>\n",
       "<table border=\"1\" class=\"dataframe\">\n",
       "  <thead>\n",
       "    <tr style=\"text-align: right;\">\n",
       "      <th></th>\n",
       "      <th>Hour</th>\n",
       "      <th>Point</th>\n",
       "      <th>Energy</th>\n",
       "      <th>Timestamp</th>\n",
       "      <th>Date</th>\n",
       "      <th>Day of Week</th>\n",
       "      <th>Out_of_Office</th>\n",
       "      <th>Presurvey</th>\n",
       "      <th>Weekly_Survey</th>\n",
       "      <th>Before_Game_Baseline</th>\n",
       "      <th>In_Game_Baseline</th>\n",
       "    </tr>\n",
       "  </thead>\n",
       "  <tbody>\n",
       "    <tr>\n",
       "      <th>0</th>\n",
       "      <td>8</td>\n",
       "      <td>0.000000</td>\n",
       "      <td>58.383468</td>\n",
       "      <td>2018-09-20 08:00:00</td>\n",
       "      <td>2018-09-20</td>\n",
       "      <td>Thursday</td>\n",
       "      <td>0</td>\n",
       "      <td>4.82</td>\n",
       "      <td>1.79</td>\n",
       "      <td>8.531474</td>\n",
       "      <td>NaN</td>\n",
       "    </tr>\n",
       "    <tr>\n",
       "      <th>1</th>\n",
       "      <td>9</td>\n",
       "      <td>0.000000</td>\n",
       "      <td>88.785622</td>\n",
       "      <td>2018-09-20 09:00:00</td>\n",
       "      <td>2018-09-20</td>\n",
       "      <td>Thursday</td>\n",
       "      <td>0</td>\n",
       "      <td>4.82</td>\n",
       "      <td>1.79</td>\n",
       "      <td>11.331923</td>\n",
       "      <td>NaN</td>\n",
       "    </tr>\n",
       "    <tr>\n",
       "      <th>2</th>\n",
       "      <td>10</td>\n",
       "      <td>10.000000</td>\n",
       "      <td>76.836119</td>\n",
       "      <td>2018-09-20 10:00:00</td>\n",
       "      <td>2018-09-20</td>\n",
       "      <td>Thursday</td>\n",
       "      <td>0</td>\n",
       "      <td>4.82</td>\n",
       "      <td>1.79</td>\n",
       "      <td>26.189487</td>\n",
       "      <td>NaN</td>\n",
       "    </tr>\n",
       "    <tr>\n",
       "      <th>3</th>\n",
       "      <td>11</td>\n",
       "      <td>10.000000</td>\n",
       "      <td>90.501904</td>\n",
       "      <td>2018-09-20 11:00:00</td>\n",
       "      <td>2018-09-20</td>\n",
       "      <td>Thursday</td>\n",
       "      <td>0</td>\n",
       "      <td>4.82</td>\n",
       "      <td>1.79</td>\n",
       "      <td>29.648204</td>\n",
       "      <td>NaN</td>\n",
       "    </tr>\n",
       "    <tr>\n",
       "      <th>4</th>\n",
       "      <td>12</td>\n",
       "      <td>9.871989</td>\n",
       "      <td>53.371114</td>\n",
       "      <td>2018-09-20 12:00:00</td>\n",
       "      <td>2018-09-20</td>\n",
       "      <td>Thursday</td>\n",
       "      <td>0</td>\n",
       "      <td>4.82</td>\n",
       "      <td>1.79</td>\n",
       "      <td>29.592628</td>\n",
       "      <td>NaN</td>\n",
       "    </tr>\n",
       "  </tbody>\n",
       "</table>\n",
       "</div>"
      ],
      "text/plain": [
       "   Hour      Point     Energy            Timestamp        Date Day of Week  \\\n",
       "0     8   0.000000  58.383468  2018-09-20 08:00:00  2018-09-20    Thursday   \n",
       "1     9   0.000000  88.785622  2018-09-20 09:00:00  2018-09-20    Thursday   \n",
       "2    10  10.000000  76.836119  2018-09-20 10:00:00  2018-09-20    Thursday   \n",
       "3    11  10.000000  90.501904  2018-09-20 11:00:00  2018-09-20    Thursday   \n",
       "4    12   9.871989  53.371114  2018-09-20 12:00:00  2018-09-20    Thursday   \n",
       "\n",
       "   Out_of_Office  Presurvey  Weekly_Survey  Before_Game_Baseline  \\\n",
       "0              0       4.82           1.79              8.531474   \n",
       "1              0       4.82           1.79             11.331923   \n",
       "2              0       4.82           1.79             26.189487   \n",
       "3              0       4.82           1.79             29.648204   \n",
       "4              0       4.82           1.79             29.592628   \n",
       "\n",
       "   In_Game_Baseline  \n",
       "0               NaN  \n",
       "1               NaN  \n",
       "2               NaN  \n",
       "3               NaN  \n",
       "4               NaN  "
      ]
     },
     "execution_count": 5,
     "metadata": {},
     "output_type": "execute_result"
    }
   ],
   "source": [
    "df = pd.read_csv(\n",
    "    \"simulation_data_v2.csv\"\n",
    "    )\n",
    "df.head()"
   ]
  },
  {
   "cell_type": "markdown",
   "metadata": {},
   "source": [
    "# Adding weather data"
   ]
  },
  {
   "cell_type": "markdown",
   "metadata": {},
   "source": [
    "We first get the range of timestamps, so we know how much weather data to get"
   ]
  },
  {
   "cell_type": "code",
   "execution_count": 6,
   "metadata": {
    "ExecuteTime": {
     "end_time": "2020-06-11T23:59:18.090713Z",
     "start_time": "2020-06-11T23:59:18.080237Z"
    }
   },
   "outputs": [
    {
     "data": {
      "text/plain": [
       "(Timestamp('2018-09-20 08:00:00'), Timestamp('2023-05-03 14:00:00'))"
      ]
     },
     "execution_count": 6,
     "metadata": {},
     "output_type": "execute_result"
    }
   ],
   "source": [
    "df['Timestamp'] = pd.to_datetime(df['Timestamp'])\n",
    "df['Timestamp'].min(), df['Timestamp'].max()"
   ]
  },
  {
   "cell_type": "markdown",
   "metadata": {},
   "source": [
    "We only want to grab a month's worth of data."
   ]
  },
  {
   "cell_type": "code",
   "execution_count": 7,
   "metadata": {
    "ExecuteTime": {
     "end_time": "2020-06-11T23:59:19.343334Z",
     "start_time": "2020-06-11T23:59:19.336053Z"
    }
   },
   "outputs": [
    {
     "data": {
      "text/plain": [
       "(Timestamp('2018-09-20 08:00:00'), Timestamp('2018-10-19 17:00:00'))"
      ]
     },
     "execution_count": 7,
     "metadata": {},
     "output_type": "execute_result"
    }
   ],
   "source": [
    "df = df[df['Timestamp'] < pd.Timestamp('2018-10-20 08:00:00')]\n",
    "df['Timestamp'].min(), df['Timestamp'].max()"
   ]
  },
  {
   "cell_type": "code",
   "execution_count": 13,
   "metadata": {
    "ExecuteTime": {
     "end_time": "2020-06-12T00:01:38.878714Z",
     "start_time": "2020-06-12T00:01:38.868519Z"
    }
   },
   "outputs": [],
   "source": [
    "frequency = 1\n",
    "start_date = '20-SEPT-2018'\n",
    "end_date = '19-OCT-2018'\n",
    "api_key = 'ac2aff5d06ab4bc2bdb181823201106'\n",
    "location_list = ['singapore']\n",
    "\n",
    "import os\n",
    "file_exists = os.path.exists(\"singapore.csv\")\n",
    "\n",
    "hist_weather_data = (wwo_hist.retrieve_hist_data(api_key,\n",
    "                                location_list,\n",
    "                                start_date,\n",
    "                                end_date,\n",
    "                                frequency,\n",
    "                                location_label = False,\n",
    "                                export_csv = True,\n",
    "                                store_df = True)[0] \n",
    "                     if not file_exists\n",
    "                     else pd.read_csv(\"singapore.csv\"))"
   ]
  },
  {
   "cell_type": "code",
   "execution_count": 14,
   "metadata": {
    "ExecuteTime": {
     "end_time": "2020-06-12T00:01:42.975327Z",
     "start_time": "2020-06-12T00:01:42.952439Z"
    }
   },
   "outputs": [
    {
     "data": {
      "text/html": [
       "<div>\n",
       "<style scoped>\n",
       "    .dataframe tbody tr th:only-of-type {\n",
       "        vertical-align: middle;\n",
       "    }\n",
       "\n",
       "    .dataframe tbody tr th {\n",
       "        vertical-align: top;\n",
       "    }\n",
       "\n",
       "    .dataframe thead th {\n",
       "        text-align: right;\n",
       "    }\n",
       "</style>\n",
       "<table border=\"1\" class=\"dataframe\">\n",
       "  <thead>\n",
       "    <tr style=\"text-align: right;\">\n",
       "      <th></th>\n",
       "      <th>date_time</th>\n",
       "      <th>maxtempC</th>\n",
       "      <th>mintempC</th>\n",
       "      <th>totalSnow_cm</th>\n",
       "      <th>sunHour</th>\n",
       "      <th>uvIndex</th>\n",
       "      <th>moon_illumination</th>\n",
       "      <th>moonrise</th>\n",
       "      <th>moonset</th>\n",
       "      <th>sunrise</th>\n",
       "      <th>...</th>\n",
       "      <th>WindGustKmph</th>\n",
       "      <th>cloudcover</th>\n",
       "      <th>humidity</th>\n",
       "      <th>precipMM</th>\n",
       "      <th>pressure</th>\n",
       "      <th>tempC</th>\n",
       "      <th>visibility</th>\n",
       "      <th>winddirDegree</th>\n",
       "      <th>windspeedKmph</th>\n",
       "      <th>location</th>\n",
       "    </tr>\n",
       "  </thead>\n",
       "  <tbody>\n",
       "    <tr>\n",
       "      <th>0</th>\n",
       "      <td>2018-09-20 00:00:00</td>\n",
       "      <td>33</td>\n",
       "      <td>25</td>\n",
       "      <td>0.0</td>\n",
       "      <td>8.9</td>\n",
       "      <td>7</td>\n",
       "      <td>72</td>\n",
       "      <td>03:35 PM</td>\n",
       "      <td>03:06 AM</td>\n",
       "      <td>06:55 AM</td>\n",
       "      <td>...</td>\n",
       "      <td>4</td>\n",
       "      <td>29</td>\n",
       "      <td>83</td>\n",
       "      <td>0.0</td>\n",
       "      <td>1010</td>\n",
       "      <td>25</td>\n",
       "      <td>10</td>\n",
       "      <td>26</td>\n",
       "      <td>3</td>\n",
       "      <td>singapore</td>\n",
       "    </tr>\n",
       "    <tr>\n",
       "      <th>1</th>\n",
       "      <td>2018-09-20 01:00:00</td>\n",
       "      <td>33</td>\n",
       "      <td>25</td>\n",
       "      <td>0.0</td>\n",
       "      <td>8.9</td>\n",
       "      <td>7</td>\n",
       "      <td>72</td>\n",
       "      <td>03:35 PM</td>\n",
       "      <td>03:06 AM</td>\n",
       "      <td>06:55 AM</td>\n",
       "      <td>...</td>\n",
       "      <td>3</td>\n",
       "      <td>27</td>\n",
       "      <td>84</td>\n",
       "      <td>0.0</td>\n",
       "      <td>1010</td>\n",
       "      <td>25</td>\n",
       "      <td>10</td>\n",
       "      <td>27</td>\n",
       "      <td>2</td>\n",
       "      <td>singapore</td>\n",
       "    </tr>\n",
       "    <tr>\n",
       "      <th>2</th>\n",
       "      <td>2018-09-20 02:00:00</td>\n",
       "      <td>33</td>\n",
       "      <td>25</td>\n",
       "      <td>0.0</td>\n",
       "      <td>8.9</td>\n",
       "      <td>7</td>\n",
       "      <td>72</td>\n",
       "      <td>03:35 PM</td>\n",
       "      <td>03:06 AM</td>\n",
       "      <td>06:55 AM</td>\n",
       "      <td>...</td>\n",
       "      <td>3</td>\n",
       "      <td>24</td>\n",
       "      <td>84</td>\n",
       "      <td>0.0</td>\n",
       "      <td>1009</td>\n",
       "      <td>25</td>\n",
       "      <td>10</td>\n",
       "      <td>28</td>\n",
       "      <td>2</td>\n",
       "      <td>singapore</td>\n",
       "    </tr>\n",
       "    <tr>\n",
       "      <th>3</th>\n",
       "      <td>2018-09-20 03:00:00</td>\n",
       "      <td>33</td>\n",
       "      <td>25</td>\n",
       "      <td>0.0</td>\n",
       "      <td>8.9</td>\n",
       "      <td>7</td>\n",
       "      <td>72</td>\n",
       "      <td>03:35 PM</td>\n",
       "      <td>03:06 AM</td>\n",
       "      <td>06:55 AM</td>\n",
       "      <td>...</td>\n",
       "      <td>2</td>\n",
       "      <td>22</td>\n",
       "      <td>84</td>\n",
       "      <td>0.0</td>\n",
       "      <td>1009</td>\n",
       "      <td>25</td>\n",
       "      <td>10</td>\n",
       "      <td>30</td>\n",
       "      <td>1</td>\n",
       "      <td>singapore</td>\n",
       "    </tr>\n",
       "    <tr>\n",
       "      <th>4</th>\n",
       "      <td>2018-09-20 04:00:00</td>\n",
       "      <td>33</td>\n",
       "      <td>25</td>\n",
       "      <td>0.0</td>\n",
       "      <td>8.9</td>\n",
       "      <td>7</td>\n",
       "      <td>72</td>\n",
       "      <td>03:35 PM</td>\n",
       "      <td>03:06 AM</td>\n",
       "      <td>06:55 AM</td>\n",
       "      <td>...</td>\n",
       "      <td>2</td>\n",
       "      <td>25</td>\n",
       "      <td>83</td>\n",
       "      <td>0.0</td>\n",
       "      <td>1010</td>\n",
       "      <td>25</td>\n",
       "      <td>10</td>\n",
       "      <td>130</td>\n",
       "      <td>1</td>\n",
       "      <td>singapore</td>\n",
       "    </tr>\n",
       "  </tbody>\n",
       "</table>\n",
       "<p>5 rows × 25 columns</p>\n",
       "</div>"
      ],
      "text/plain": [
       "            date_time maxtempC mintempC totalSnow_cm sunHour uvIndex  \\\n",
       "0 2018-09-20 00:00:00       33       25          0.0     8.9       7   \n",
       "1 2018-09-20 01:00:00       33       25          0.0     8.9       7   \n",
       "2 2018-09-20 02:00:00       33       25          0.0     8.9       7   \n",
       "3 2018-09-20 03:00:00       33       25          0.0     8.9       7   \n",
       "4 2018-09-20 04:00:00       33       25          0.0     8.9       7   \n",
       "\n",
       "  moon_illumination  moonrise   moonset   sunrise  ... WindGustKmph  \\\n",
       "0                72  03:35 PM  03:06 AM  06:55 AM  ...            4   \n",
       "1                72  03:35 PM  03:06 AM  06:55 AM  ...            3   \n",
       "2                72  03:35 PM  03:06 AM  06:55 AM  ...            3   \n",
       "3                72  03:35 PM  03:06 AM  06:55 AM  ...            2   \n",
       "4                72  03:35 PM  03:06 AM  06:55 AM  ...            2   \n",
       "\n",
       "  cloudcover humidity precipMM pressure tempC visibility winddirDegree  \\\n",
       "0         29       83      0.0     1010    25         10            26   \n",
       "1         27       84      0.0     1010    25         10            27   \n",
       "2         24       84      0.0     1009    25         10            28   \n",
       "3         22       84      0.0     1009    25         10            30   \n",
       "4         25       83      0.0     1010    25         10           130   \n",
       "\n",
       "  windspeedKmph   location  \n",
       "0             3  singapore  \n",
       "1             2  singapore  \n",
       "2             2  singapore  \n",
       "3             1  singapore  \n",
       "4             1  singapore  \n",
       "\n",
       "[5 rows x 25 columns]"
      ]
     },
     "execution_count": 14,
     "metadata": {},
     "output_type": "execute_result"
    }
   ],
   "source": [
    "weather_df.head()"
   ]
  },
  {
   "cell_type": "markdown",
   "metadata": {},
   "source": [
    "### Taking temperature, precipitation, humidity, and joining on the main dataframe."
   ]
  },
  {
   "cell_type": "code",
   "execution_count": 15,
   "metadata": {
    "ExecuteTime": {
     "end_time": "2020-06-12T00:01:45.947746Z",
     "start_time": "2020-06-12T00:01:45.936075Z"
    }
   },
   "outputs": [
    {
     "data": {
      "text/html": [
       "<div>\n",
       "<style scoped>\n",
       "    .dataframe tbody tr th:only-of-type {\n",
       "        vertical-align: middle;\n",
       "    }\n",
       "\n",
       "    .dataframe tbody tr th {\n",
       "        vertical-align: top;\n",
       "    }\n",
       "\n",
       "    .dataframe thead th {\n",
       "        text-align: right;\n",
       "    }\n",
       "</style>\n",
       "<table border=\"1\" class=\"dataframe\">\n",
       "  <thead>\n",
       "    <tr style=\"text-align: right;\">\n",
       "      <th></th>\n",
       "      <th>Timestamp</th>\n",
       "      <th>tempC</th>\n",
       "      <th>precipMM</th>\n",
       "      <th>humidity</th>\n",
       "    </tr>\n",
       "  </thead>\n",
       "  <tbody>\n",
       "    <tr>\n",
       "      <th>0</th>\n",
       "      <td>2018-09-20 00:00:00</td>\n",
       "      <td>25</td>\n",
       "      <td>0.0</td>\n",
       "      <td>83</td>\n",
       "    </tr>\n",
       "    <tr>\n",
       "      <th>1</th>\n",
       "      <td>2018-09-20 01:00:00</td>\n",
       "      <td>25</td>\n",
       "      <td>0.0</td>\n",
       "      <td>84</td>\n",
       "    </tr>\n",
       "    <tr>\n",
       "      <th>2</th>\n",
       "      <td>2018-09-20 02:00:00</td>\n",
       "      <td>25</td>\n",
       "      <td>0.0</td>\n",
       "      <td>84</td>\n",
       "    </tr>\n",
       "    <tr>\n",
       "      <th>3</th>\n",
       "      <td>2018-09-20 03:00:00</td>\n",
       "      <td>25</td>\n",
       "      <td>0.0</td>\n",
       "      <td>84</td>\n",
       "    </tr>\n",
       "    <tr>\n",
       "      <th>4</th>\n",
       "      <td>2018-09-20 04:00:00</td>\n",
       "      <td>25</td>\n",
       "      <td>0.0</td>\n",
       "      <td>83</td>\n",
       "    </tr>\n",
       "  </tbody>\n",
       "</table>\n",
       "</div>"
      ],
      "text/plain": [
       "            Timestamp tempC precipMM humidity\n",
       "0 2018-09-20 00:00:00    25      0.0       83\n",
       "1 2018-09-20 01:00:00    25      0.0       84\n",
       "2 2018-09-20 02:00:00    25      0.0       84\n",
       "3 2018-09-20 03:00:00    25      0.0       84\n",
       "4 2018-09-20 04:00:00    25      0.0       83"
      ]
     },
     "execution_count": 15,
     "metadata": {},
     "output_type": "execute_result"
    }
   ],
   "source": [
    "weather_subset_df = (weather_df[['date_time', 'tempC', 'precipMM', 'humidity']]\n",
    "                    .rename({\"date_time\": \"Timestamp\"}, axis=1))\n",
    "weather_subset_df.head()"
   ]
  },
  {
   "cell_type": "code",
   "execution_count": 16,
   "metadata": {
    "ExecuteTime": {
     "end_time": "2020-06-12T00:01:51.352946Z",
     "start_time": "2020-06-12T00:01:51.331746Z"
    }
   },
   "outputs": [
    {
     "data": {
      "text/html": [
       "<div>\n",
       "<style scoped>\n",
       "    .dataframe tbody tr th:only-of-type {\n",
       "        vertical-align: middle;\n",
       "    }\n",
       "\n",
       "    .dataframe tbody tr th {\n",
       "        vertical-align: top;\n",
       "    }\n",
       "\n",
       "    .dataframe thead th {\n",
       "        text-align: right;\n",
       "    }\n",
       "</style>\n",
       "<table border=\"1\" class=\"dataframe\">\n",
       "  <thead>\n",
       "    <tr style=\"text-align: right;\">\n",
       "      <th></th>\n",
       "      <th>Hour</th>\n",
       "      <th>Point</th>\n",
       "      <th>Energy</th>\n",
       "      <th>Timestamp</th>\n",
       "      <th>Date</th>\n",
       "      <th>Day of Week</th>\n",
       "      <th>Out_of_Office</th>\n",
       "      <th>Presurvey</th>\n",
       "      <th>Weekly_Survey</th>\n",
       "      <th>Before_Game_Baseline</th>\n",
       "      <th>In_Game_Baseline</th>\n",
       "      <th>tempC</th>\n",
       "      <th>precipMM</th>\n",
       "      <th>humidity</th>\n",
       "    </tr>\n",
       "  </thead>\n",
       "  <tbody>\n",
       "    <tr>\n",
       "      <th>0</th>\n",
       "      <td>8</td>\n",
       "      <td>0.000000</td>\n",
       "      <td>58.383468</td>\n",
       "      <td>2018-09-20 08:00:00</td>\n",
       "      <td>2018-09-20</td>\n",
       "      <td>Thursday</td>\n",
       "      <td>0</td>\n",
       "      <td>4.82</td>\n",
       "      <td>1.79</td>\n",
       "      <td>8.531474</td>\n",
       "      <td>NaN</td>\n",
       "      <td>31</td>\n",
       "      <td>0.1</td>\n",
       "      <td>61</td>\n",
       "    </tr>\n",
       "    <tr>\n",
       "      <th>1</th>\n",
       "      <td>9</td>\n",
       "      <td>0.000000</td>\n",
       "      <td>88.785622</td>\n",
       "      <td>2018-09-20 09:00:00</td>\n",
       "      <td>2018-09-20</td>\n",
       "      <td>Thursday</td>\n",
       "      <td>0</td>\n",
       "      <td>4.82</td>\n",
       "      <td>1.79</td>\n",
       "      <td>11.331923</td>\n",
       "      <td>NaN</td>\n",
       "      <td>33</td>\n",
       "      <td>0.1</td>\n",
       "      <td>52</td>\n",
       "    </tr>\n",
       "    <tr>\n",
       "      <th>2</th>\n",
       "      <td>10</td>\n",
       "      <td>10.000000</td>\n",
       "      <td>76.836119</td>\n",
       "      <td>2018-09-20 10:00:00</td>\n",
       "      <td>2018-09-20</td>\n",
       "      <td>Thursday</td>\n",
       "      <td>0</td>\n",
       "      <td>4.82</td>\n",
       "      <td>1.79</td>\n",
       "      <td>26.189487</td>\n",
       "      <td>NaN</td>\n",
       "      <td>33</td>\n",
       "      <td>0.1</td>\n",
       "      <td>54</td>\n",
       "    </tr>\n",
       "    <tr>\n",
       "      <th>3</th>\n",
       "      <td>11</td>\n",
       "      <td>10.000000</td>\n",
       "      <td>90.501904</td>\n",
       "      <td>2018-09-20 11:00:00</td>\n",
       "      <td>2018-09-20</td>\n",
       "      <td>Thursday</td>\n",
       "      <td>0</td>\n",
       "      <td>4.82</td>\n",
       "      <td>1.79</td>\n",
       "      <td>29.648204</td>\n",
       "      <td>NaN</td>\n",
       "      <td>32</td>\n",
       "      <td>0.0</td>\n",
       "      <td>56</td>\n",
       "    </tr>\n",
       "    <tr>\n",
       "      <th>4</th>\n",
       "      <td>12</td>\n",
       "      <td>9.871989</td>\n",
       "      <td>53.371114</td>\n",
       "      <td>2018-09-20 12:00:00</td>\n",
       "      <td>2018-09-20</td>\n",
       "      <td>Thursday</td>\n",
       "      <td>0</td>\n",
       "      <td>4.82</td>\n",
       "      <td>1.79</td>\n",
       "      <td>29.592628</td>\n",
       "      <td>NaN</td>\n",
       "      <td>32</td>\n",
       "      <td>0.0</td>\n",
       "      <td>58</td>\n",
       "    </tr>\n",
       "  </tbody>\n",
       "</table>\n",
       "</div>"
      ],
      "text/plain": [
       "   Hour      Point     Energy           Timestamp        Date Day of Week  \\\n",
       "0     8   0.000000  58.383468 2018-09-20 08:00:00  2018-09-20    Thursday   \n",
       "1     9   0.000000  88.785622 2018-09-20 09:00:00  2018-09-20    Thursday   \n",
       "2    10  10.000000  76.836119 2018-09-20 10:00:00  2018-09-20    Thursday   \n",
       "3    11  10.000000  90.501904 2018-09-20 11:00:00  2018-09-20    Thursday   \n",
       "4    12   9.871989  53.371114 2018-09-20 12:00:00  2018-09-20    Thursday   \n",
       "\n",
       "   Out_of_Office  Presurvey  Weekly_Survey  Before_Game_Baseline  \\\n",
       "0              0       4.82           1.79              8.531474   \n",
       "1              0       4.82           1.79             11.331923   \n",
       "2              0       4.82           1.79             26.189487   \n",
       "3              0       4.82           1.79             29.648204   \n",
       "4              0       4.82           1.79             29.592628   \n",
       "\n",
       "   In_Game_Baseline tempC precipMM humidity  \n",
       "0               NaN    31      0.1       61  \n",
       "1               NaN    33      0.1       52  \n",
       "2               NaN    33      0.1       54  \n",
       "3               NaN    32      0.0       56  \n",
       "4               NaN    32      0.0       58  "
      ]
     },
     "execution_count": 16,
     "metadata": {},
     "output_type": "execute_result"
    }
   ],
   "source": [
    "df = df.merge(right=weather_subset_df, on=\"Timestamp\", how=\"left\")\n",
    "df.head()"
   ]
  },
  {
   "cell_type": "markdown",
   "metadata": {},
   "source": [
    "# Preprocessing"
   ]
  },
  {
   "cell_type": "markdown",
   "metadata": {},
   "source": [
    "## First Check Stationarity of Time Series"
   ]
  },
  {
   "cell_type": "markdown",
   "metadata": {},
   "source": [
    "Time series are stationary if they do not have trend or seasonal effects. Summary statistics calculated on the time series are consistent over time, like the mean or the variance of the observations.\n",
    "\n",
    "When a time series is stationary, it can be easier to model. Statistical modeling methods assume or require the time series to be stationary to be effective."
   ]
  },
  {
   "cell_type": "markdown",
   "metadata": {},
   "source": [
    "We use the Dickey-Fuller test to test of our time series is stationary."
   ]
  },
  {
   "cell_type": "markdown",
   "metadata": {},
   "source": [
    "### Dickey-Fuller Test"
   ]
  },
  {
   "cell_type": "code",
   "execution_count": 66,
   "metadata": {
    "ExecuteTime": {
     "end_time": "2020-06-11T22:45:58.119990Z",
     "start_time": "2020-06-11T22:45:58.117495Z"
    }
   },
   "outputs": [],
   "source": [
    "from statsmodels.tsa.stattools import adfuller"
   ]
  },
  {
   "cell_type": "code",
   "execution_count": 67,
   "metadata": {
    "ExecuteTime": {
     "end_time": "2020-06-11T22:46:23.317201Z",
     "start_time": "2020-06-11T22:46:23.315032Z"
    }
   },
   "outputs": [],
   "source": [
    "X = df['Energy']"
   ]
  },
  {
   "cell_type": "code",
   "execution_count": 68,
   "metadata": {
    "ExecuteTime": {
     "end_time": "2020-06-11T22:46:32.928158Z",
     "start_time": "2020-06-11T22:46:32.904669Z"
    }
   },
   "outputs": [
    {
     "name": "stdout",
     "output_type": "stream",
     "text": [
      "ADF Statistic: -5.133726\n",
      "p-value: 0.000012\n",
      "Critical Values:\n",
      "\t1%: -3.454\n",
      "\t5%: -2.872\n",
      "\t10%: -2.572\n"
     ]
    }
   ],
   "source": [
    "result = adfuller(X)\n",
    "print('ADF Statistic: %f' % result[0])\n",
    "print('p-value: %f' % result[1])\n",
    "print('Critical Values:')\n",
    "for key, value in result[4].items():\n",
    "\tprint('\\t%s: %.3f' % (key, value))"
   ]
  },
  {
   "cell_type": "markdown",
   "metadata": {},
   "source": [
    "Since the p-value is less than 0.05, we can reject the null-hypothesis, and proceed with our analysis."
   ]
  },
  {
   "cell_type": "code",
   "execution_count": 20,
   "metadata": {
    "ExecuteTime": {
     "end_time": "2020-06-12T00:03:48.048247Z",
     "start_time": "2020-06-12T00:03:48.045174Z"
    }
   },
   "outputs": [],
   "source": [
    "encoder = LabelEncoder()\n",
    "df[\"Day of Week\"] = encoder.fit_transform(df[\"Day of Week\"])"
   ]
  },
  {
   "cell_type": "markdown",
   "metadata": {},
   "source": [
    "## Remove extra columns"
   ]
  },
  {
   "cell_type": "code",
   "execution_count": 21,
   "metadata": {
    "ExecuteTime": {
     "end_time": "2020-06-12T00:03:49.939686Z",
     "start_time": "2020-06-12T00:03:49.926442Z"
    }
   },
   "outputs": [
    {
     "data": {
      "text/html": [
       "<div>\n",
       "<style scoped>\n",
       "    .dataframe tbody tr th:only-of-type {\n",
       "        vertical-align: middle;\n",
       "    }\n",
       "\n",
       "    .dataframe tbody tr th {\n",
       "        vertical-align: top;\n",
       "    }\n",
       "\n",
       "    .dataframe thead th {\n",
       "        text-align: right;\n",
       "    }\n",
       "</style>\n",
       "<table border=\"1\" class=\"dataframe\">\n",
       "  <thead>\n",
       "    <tr style=\"text-align: right;\">\n",
       "      <th></th>\n",
       "      <th>Point</th>\n",
       "      <th>Day of Week</th>\n",
       "      <th>Out_of_Office</th>\n",
       "      <th>tempC</th>\n",
       "      <th>precipMM</th>\n",
       "      <th>humidity</th>\n",
       "      <th>Energy</th>\n",
       "    </tr>\n",
       "    <tr>\n",
       "      <th>Timestamp</th>\n",
       "      <th></th>\n",
       "      <th></th>\n",
       "      <th></th>\n",
       "      <th></th>\n",
       "      <th></th>\n",
       "      <th></th>\n",
       "      <th></th>\n",
       "    </tr>\n",
       "  </thead>\n",
       "  <tbody>\n",
       "    <tr>\n",
       "      <th>2018-09-20 08:00:00</th>\n",
       "      <td>0.000000</td>\n",
       "      <td>4</td>\n",
       "      <td>0</td>\n",
       "      <td>31</td>\n",
       "      <td>0.1</td>\n",
       "      <td>61</td>\n",
       "      <td>58.383468</td>\n",
       "    </tr>\n",
       "    <tr>\n",
       "      <th>2018-09-20 09:00:00</th>\n",
       "      <td>0.000000</td>\n",
       "      <td>4</td>\n",
       "      <td>0</td>\n",
       "      <td>33</td>\n",
       "      <td>0.1</td>\n",
       "      <td>52</td>\n",
       "      <td>88.785622</td>\n",
       "    </tr>\n",
       "    <tr>\n",
       "      <th>2018-09-20 10:00:00</th>\n",
       "      <td>10.000000</td>\n",
       "      <td>4</td>\n",
       "      <td>0</td>\n",
       "      <td>33</td>\n",
       "      <td>0.1</td>\n",
       "      <td>54</td>\n",
       "      <td>76.836119</td>\n",
       "    </tr>\n",
       "    <tr>\n",
       "      <th>2018-09-20 11:00:00</th>\n",
       "      <td>10.000000</td>\n",
       "      <td>4</td>\n",
       "      <td>0</td>\n",
       "      <td>32</td>\n",
       "      <td>0.0</td>\n",
       "      <td>56</td>\n",
       "      <td>90.501904</td>\n",
       "    </tr>\n",
       "    <tr>\n",
       "      <th>2018-09-20 12:00:00</th>\n",
       "      <td>9.871989</td>\n",
       "      <td>4</td>\n",
       "      <td>0</td>\n",
       "      <td>32</td>\n",
       "      <td>0.0</td>\n",
       "      <td>58</td>\n",
       "      <td>53.371114</td>\n",
       "    </tr>\n",
       "  </tbody>\n",
       "</table>\n",
       "</div>"
      ],
      "text/plain": [
       "                         Point  Day of Week  Out_of_Office tempC precipMM  \\\n",
       "Timestamp                                                                   \n",
       "2018-09-20 08:00:00   0.000000            4              0    31      0.1   \n",
       "2018-09-20 09:00:00   0.000000            4              0    33      0.1   \n",
       "2018-09-20 10:00:00  10.000000            4              0    33      0.1   \n",
       "2018-09-20 11:00:00  10.000000            4              0    32      0.0   \n",
       "2018-09-20 12:00:00   9.871989            4              0    32      0.0   \n",
       "\n",
       "                    humidity     Energy  \n",
       "Timestamp                                \n",
       "2018-09-20 08:00:00       61  58.383468  \n",
       "2018-09-20 09:00:00       52  88.785622  \n",
       "2018-09-20 10:00:00       54  76.836119  \n",
       "2018-09-20 11:00:00       56  90.501904  \n",
       "2018-09-20 12:00:00       58  53.371114  "
      ]
     },
     "execution_count": 21,
     "metadata": {},
     "output_type": "execute_result"
    }
   ],
   "source": [
    "df = (df[['Timestamp', 'Point', 'Day of Week', 'Out_of_Office', 'tempC', 'precipMM', 'humidity', 'Energy']]\n",
    "      .set_index('Timestamp'))\n",
    "df.head()"
   ]
  },
  {
   "cell_type": "markdown",
   "metadata": {},
   "source": [
    "## Check for nan values"
   ]
  },
  {
   "cell_type": "code",
   "execution_count": 22,
   "metadata": {
    "ExecuteTime": {
     "end_time": "2020-06-12T00:03:51.674059Z",
     "start_time": "2020-06-12T00:03:51.669482Z"
    }
   },
   "outputs": [
    {
     "data": {
      "text/plain": [
       "False"
      ]
     },
     "execution_count": 22,
     "metadata": {},
     "output_type": "execute_result"
    }
   ],
   "source": [
    "df.isnull().values.any()"
   ]
  },
  {
   "cell_type": "markdown",
   "metadata": {},
   "source": [
    "## `series_to_supervised` (Time lag function)"
   ]
  },
  {
   "cell_type": "code",
   "execution_count": 32,
   "metadata": {
    "ExecuteTime": {
     "end_time": "2020-06-12T01:03:04.711311Z",
     "start_time": "2020-06-12T01:03:04.702389Z"
    }
   },
   "outputs": [],
   "source": [
    "def series_to_supervised(data,\n",
    "                         n_in,\n",
    "                         target_features,\n",
    "                         col_names=None,\n",
    "                         n_out=1,\n",
    "                         dropnan=True,\n",
    "                         initial_excluded_timesteps=0,\n",
    "                         only_current_timestep_features=[]):\n",
    "    \"\"\"Takes time series data and converts it into a supervised learning\n",
    "    problem framework.\n",
    "\n",
    "        Parameters:\n",
    "            - data (pd.Dataframe) -- the time series data to be converted.\n",
    "            - n_in (int) -- Number of time steps to use as lag for the feature \n",
    "                matrix\n",
    "            - col_names (List[str]) -- list of strings to use as column names,\n",
    "                that get converted into features for each time lag\n",
    "            - target_features (List[str]) -- List of features that will be used\n",
    "                as dependent variables in the target matrix.\n",
    "            - n_out (int) -- Number of time steps to use as lag for the target\n",
    "                matrix\n",
    "            - dropnan (bool) -- Whether to drop nan values\n",
    "            - initial_excluded_timesteps (int) -- The number of input timesteps to \n",
    "                ignore before starting the time lag.\n",
    "            - only_current_timestep_features (List[str]) -- Features that should\n",
    "            only be included in the current timestep, not any before (e.g.) to avoid\n",
    "            unintended dependencies\n",
    "            \n",
    "            - [Planned] exclude_current_day (bool) -- Whether to include values \n",
    "                from the current day. If this parameter is false, then the time lag \n",
    "                will always start with the day preceding the current time \n",
    "                step.\n",
    "                \n",
    "        Outputs:\n",
    "            - (X, y): (Feature matrix, target matrix)\n",
    "    \"\"\"\n",
    "    \n",
    "    if col_names is None:\n",
    "        col_names = data.columns\n",
    "        \n",
    "    n_vars = 1 if type(data) is list else data.shape[1]\n",
    "    df = pd.DataFrame(data)\n",
    "    cols, names = list(), list()      \n",
    "        \n",
    "\n",
    "    # (t-n, ... t-1) --> i.e. steps into the past\n",
    "    for i in range(n_in + initial_excluded_timesteps, initial_excluded_timesteps, -1):\n",
    "        cols.append(df.shift(i))\n",
    "        names += [('%s(t-%d)' % (col, i)) for col in col_names]\n",
    "\n",
    "    # (t, t+1, ... t+n) --> i.e. steps into the future\n",
    "    for i in range(0, n_out):\n",
    "        cols.append(df.shift(-i))\n",
    "        if i == 0:\n",
    "            names += [('%s(t)' % (col)) for col in col_names]\n",
    "        else:\n",
    "            names += [('%s(t + %d)' % (col, i)) for col in col_names]\n",
    "\n",
    "    # concat\n",
    "    agg = pd.concat(cols, axis=1)\n",
    "    agg.columns = names\n",
    "\n",
    "    # dropnan\n",
    "    if dropnan:\n",
    "        agg.dropna(inplace=True)\n",
    "    return agg"
   ]
  },
  {
   "cell_type": "markdown",
   "metadata": {},
   "source": [
    "## Separate X and Y variables"
   ]
  },
  {
   "cell_type": "code",
   "execution_count": 33,
   "metadata": {
    "ExecuteTime": {
     "end_time": "2020-06-12T01:03:05.796432Z",
     "start_time": "2020-06-12T01:03:05.755579Z"
    }
   },
   "outputs": [
    {
     "data": {
      "text/html": [
       "<div>\n",
       "<style scoped>\n",
       "    .dataframe tbody tr th:only-of-type {\n",
       "        vertical-align: middle;\n",
       "    }\n",
       "\n",
       "    .dataframe tbody tr th {\n",
       "        vertical-align: top;\n",
       "    }\n",
       "\n",
       "    .dataframe thead th {\n",
       "        text-align: right;\n",
       "    }\n",
       "</style>\n",
       "<table border=\"1\" class=\"dataframe\">\n",
       "  <thead>\n",
       "    <tr style=\"text-align: right;\">\n",
       "      <th></th>\n",
       "      <th>Point(t-18)</th>\n",
       "      <th>Day of Week(t-18)</th>\n",
       "      <th>Out_of_Office(t-18)</th>\n",
       "      <th>tempC(t-18)</th>\n",
       "      <th>precipMM(t-18)</th>\n",
       "      <th>humidity(t-18)</th>\n",
       "      <th>Energy(t-18)</th>\n",
       "      <th>Point(t-17)</th>\n",
       "      <th>Day of Week(t-17)</th>\n",
       "      <th>Out_of_Office(t-17)</th>\n",
       "      <th>...</th>\n",
       "      <th>precipMM(t-1)</th>\n",
       "      <th>humidity(t-1)</th>\n",
       "      <th>Energy(t-1)</th>\n",
       "      <th>Point(t)</th>\n",
       "      <th>Day of Week(t)</th>\n",
       "      <th>Out_of_Office(t)</th>\n",
       "      <th>tempC(t)</th>\n",
       "      <th>precipMM(t)</th>\n",
       "      <th>humidity(t)</th>\n",
       "      <th>Energy(t)</th>\n",
       "    </tr>\n",
       "  </thead>\n",
       "  <tbody>\n",
       "    <tr>\n",
       "      <th>18</th>\n",
       "      <td>0.000000</td>\n",
       "      <td>0.666667</td>\n",
       "      <td>0.0</td>\n",
       "      <td>0.666667</td>\n",
       "      <td>0.022727</td>\n",
       "      <td>0.300</td>\n",
       "      <td>0.110800</td>\n",
       "      <td>0.000000</td>\n",
       "      <td>0.666667</td>\n",
       "      <td>0.0</td>\n",
       "      <td>...</td>\n",
       "      <td>0.795455</td>\n",
       "      <td>0.525</td>\n",
       "      <td>0.692190</td>\n",
       "      <td>0.000000e+00</td>\n",
       "      <td>0.000000</td>\n",
       "      <td>0.0</td>\n",
       "      <td>0.333333</td>\n",
       "      <td>0.386364</td>\n",
       "      <td>0.600</td>\n",
       "      <td>0.464206</td>\n",
       "    </tr>\n",
       "    <tr>\n",
       "      <th>19</th>\n",
       "      <td>0.000000</td>\n",
       "      <td>0.666667</td>\n",
       "      <td>0.0</td>\n",
       "      <td>0.888889</td>\n",
       "      <td>0.022727</td>\n",
       "      <td>0.075</td>\n",
       "      <td>0.168498</td>\n",
       "      <td>1.000000</td>\n",
       "      <td>0.666667</td>\n",
       "      <td>0.0</td>\n",
       "      <td>...</td>\n",
       "      <td>0.386364</td>\n",
       "      <td>0.600</td>\n",
       "      <td>0.464206</td>\n",
       "      <td>0.000000e+00</td>\n",
       "      <td>0.000000</td>\n",
       "      <td>0.0</td>\n",
       "      <td>0.222222</td>\n",
       "      <td>0.000000</td>\n",
       "      <td>0.675</td>\n",
       "      <td>0.251754</td>\n",
       "    </tr>\n",
       "    <tr>\n",
       "      <th>20</th>\n",
       "      <td>1.000000</td>\n",
       "      <td>0.666667</td>\n",
       "      <td>0.0</td>\n",
       "      <td>0.888889</td>\n",
       "      <td>0.022727</td>\n",
       "      <td>0.125</td>\n",
       "      <td>0.145820</td>\n",
       "      <td>1.000000</td>\n",
       "      <td>0.666667</td>\n",
       "      <td>0.0</td>\n",
       "      <td>...</td>\n",
       "      <td>0.000000</td>\n",
       "      <td>0.675</td>\n",
       "      <td>0.251754</td>\n",
       "      <td>1.907349e-07</td>\n",
       "      <td>0.333333</td>\n",
       "      <td>0.0</td>\n",
       "      <td>0.444444</td>\n",
       "      <td>0.000000</td>\n",
       "      <td>0.550</td>\n",
       "      <td>0.193240</td>\n",
       "    </tr>\n",
       "    <tr>\n",
       "      <th>21</th>\n",
       "      <td>1.000000</td>\n",
       "      <td>0.666667</td>\n",
       "      <td>0.0</td>\n",
       "      <td>0.777778</td>\n",
       "      <td>0.000000</td>\n",
       "      <td>0.175</td>\n",
       "      <td>0.171755</td>\n",
       "      <td>0.987199</td>\n",
       "      <td>0.666667</td>\n",
       "      <td>0.0</td>\n",
       "      <td>...</td>\n",
       "      <td>0.000000</td>\n",
       "      <td>0.550</td>\n",
       "      <td>0.193240</td>\n",
       "      <td>0.000000e+00</td>\n",
       "      <td>0.333333</td>\n",
       "      <td>0.0</td>\n",
       "      <td>0.555555</td>\n",
       "      <td>0.000000</td>\n",
       "      <td>0.400</td>\n",
       "      <td>0.324154</td>\n",
       "    </tr>\n",
       "    <tr>\n",
       "      <th>22</th>\n",
       "      <td>0.987199</td>\n",
       "      <td>0.666667</td>\n",
       "      <td>0.0</td>\n",
       "      <td>0.777778</td>\n",
       "      <td>0.000000</td>\n",
       "      <td>0.225</td>\n",
       "      <td>0.101288</td>\n",
       "      <td>0.000000</td>\n",
       "      <td>0.666667</td>\n",
       "      <td>0.0</td>\n",
       "      <td>...</td>\n",
       "      <td>0.000000</td>\n",
       "      <td>0.400</td>\n",
       "      <td>0.324154</td>\n",
       "      <td>1.000000e+00</td>\n",
       "      <td>0.333333</td>\n",
       "      <td>0.0</td>\n",
       "      <td>0.666667</td>\n",
       "      <td>0.000000</td>\n",
       "      <td>0.375</td>\n",
       "      <td>0.260801</td>\n",
       "    </tr>\n",
       "  </tbody>\n",
       "</table>\n",
       "<p>5 rows × 133 columns</p>\n",
       "</div>"
      ],
      "text/plain": [
       "    Point(t-18)  Day of Week(t-18)  Out_of_Office(t-18)  tempC(t-18)  \\\n",
       "18     0.000000           0.666667                  0.0     0.666667   \n",
       "19     0.000000           0.666667                  0.0     0.888889   \n",
       "20     1.000000           0.666667                  0.0     0.888889   \n",
       "21     1.000000           0.666667                  0.0     0.777778   \n",
       "22     0.987199           0.666667                  0.0     0.777778   \n",
       "\n",
       "    precipMM(t-18)  humidity(t-18)  Energy(t-18)  Point(t-17)  \\\n",
       "18        0.022727           0.300      0.110800     0.000000   \n",
       "19        0.022727           0.075      0.168498     1.000000   \n",
       "20        0.022727           0.125      0.145820     1.000000   \n",
       "21        0.000000           0.175      0.171755     0.987199   \n",
       "22        0.000000           0.225      0.101288     0.000000   \n",
       "\n",
       "    Day of Week(t-17)  Out_of_Office(t-17)  ...  precipMM(t-1)  humidity(t-1)  \\\n",
       "18           0.666667                  0.0  ...       0.795455          0.525   \n",
       "19           0.666667                  0.0  ...       0.386364          0.600   \n",
       "20           0.666667                  0.0  ...       0.000000          0.675   \n",
       "21           0.666667                  0.0  ...       0.000000          0.550   \n",
       "22           0.666667                  0.0  ...       0.000000          0.400   \n",
       "\n",
       "    Energy(t-1)      Point(t)  Day of Week(t)  Out_of_Office(t)  tempC(t)  \\\n",
       "18     0.692190  0.000000e+00        0.000000               0.0  0.333333   \n",
       "19     0.464206  0.000000e+00        0.000000               0.0  0.222222   \n",
       "20     0.251754  1.907349e-07        0.333333               0.0  0.444444   \n",
       "21     0.193240  0.000000e+00        0.333333               0.0  0.555555   \n",
       "22     0.324154  1.000000e+00        0.333333               0.0  0.666667   \n",
       "\n",
       "    precipMM(t)  humidity(t)  Energy(t)  \n",
       "18     0.386364        0.600   0.464206  \n",
       "19     0.000000        0.675   0.251754  \n",
       "20     0.000000        0.550   0.193240  \n",
       "21     0.000000        0.400   0.324154  \n",
       "22     0.000000        0.375   0.260801  \n",
       "\n",
       "[5 rows x 133 columns]"
      ]
     },
     "execution_count": 33,
     "metadata": {},
     "output_type": "execute_result"
    }
   ],
   "source": [
    "df_y = df[\"Energy\"]\n",
    "df_X = df.drop(\"Energy\", axis = 1)\n",
    "\n",
    "values_y = df_y.values\n",
    "values_X = df_X.values\n",
    "scaler_X = MinMaxScaler(feature_range = (0, 1))\n",
    "scaler_y = MinMaxScaler(feature_range = (0, 1))\n",
    "\n",
    "values_y = values_y.astype(\"float32\")\n",
    "values_X = values_X.astype(\"float32\")\n",
    "\n",
    "scaled_X = scaler_X.fit_transform(values_X)\n",
    "scaled_y = scaler_y.fit_transform(values_y.reshape(-1, 1))\n",
    "\n",
    "scaled = np.concatenate((scaled_X, scaled_y), axis = 1)\n",
    "\n",
    "reframed = series_to_supervised(data = scaled, col_names = df.columns.tolist(), n_in = 18, n_out = 1)\n",
    "reframed.head()"
   ]
  },
  {
   "cell_type": "markdown",
   "metadata": {},
   "source": [
    "# Benchmark Testing"
   ]
  },
  {
   "cell_type": "markdown",
   "metadata": {},
   "source": [
    "## Model evaluation metrics"
   ]
  },
  {
   "cell_type": "code",
   "execution_count": 29,
   "metadata": {
    "ExecuteTime": {
     "end_time": "2020-06-12T00:28:34.210408Z",
     "start_time": "2020-06-12T00:28:34.204292Z"
    }
   },
   "outputs": [],
   "source": [
    "from sklearn.metrics import mean_squared_error, mean_absolute_error\n",
    "from math import sqrt\n",
    "\n",
    "def rmse(predicted_y, actual_y):\n",
    "    return sqrt(mean_squared_error(actual_y, predicted_y))\n",
    "\n",
    "def cv_rmse(predicted_y, actual_y):\n",
    "    \"\"\"This measures the coefficient of variation, which is the RMSE normalized by \n",
    "    the mean of the measured values and quantifies typical size of the error \n",
    "    relative to the mean of the observations. A high CV score indicates that a \n",
    "    model has a high error range.\n",
    "    \"\"\"\n",
    "    return rmse(predicted_y, actual_y) / sqrt(np.mean(actual_y))\n",
    "\n",
    "def mae(predicted_y, actual_y):\n",
    "    return mean_absolute_error(actual_y, predicted_y)\n",
    "\n",
    "evaluation_methods = [rmse, cv_rmse, mae]"
   ]
  },
  {
   "cell_type": "markdown",
   "metadata": {},
   "source": [
    "## KNN"
   ]
  },
  {
   "cell_type": "markdown",
   "metadata": {},
   "source": [
    "## Random Forests"
   ]
  },
  {
   "cell_type": "markdown",
   "metadata": {},
   "source": [
    "## Gradient Boosting"
   ]
  },
  {
   "cell_type": "markdown",
   "metadata": {},
   "source": [
    "## Standard NN"
   ]
  },
  {
   "cell_type": "markdown",
   "metadata": {},
   "source": [
    "## Extra Trees Regressor"
   ]
  },
  {
   "cell_type": "markdown",
   "metadata": {},
   "source": [
    "# Model Selection"
   ]
  },
  {
   "cell_type": "markdown",
   "metadata": {},
   "source": [
    "## Genetic algorithm to find optimal amount of time lag"
   ]
  },
  {
   "cell_type": "markdown",
   "metadata": {},
   "source": [
    "## Exploring AutoML"
   ]
  },
  {
   "cell_type": "markdown",
   "metadata": {},
   "source": [
    "## Exploring Bayesian Optimization"
   ]
  },
  {
   "cell_type": "markdown",
   "metadata": {},
   "source": [
    "# GA-augmented LSTM-RNN model"
   ]
  },
  {
   "cell_type": "markdown",
   "metadata": {},
   "source": [
    "# LSTM-GAN Testing"
   ]
  },
  {
   "cell_type": "code",
   "execution_count": null,
   "metadata": {},
   "outputs": [],
   "source": []
  }
 ],
 "metadata": {
  "kernelspec": {
   "display_name": "Python 3.7.4 64-bit ('base': conda)",
   "language": "python",
   "name": "python37464bitbaseconda1a61793961244543b0e069d901d14781"
  },
  "language_info": {
   "codemirror_mode": {
    "name": "ipython",
    "version": 3
   },
   "file_extension": ".py",
   "mimetype": "text/x-python",
   "name": "python",
   "nbconvert_exporter": "python",
   "pygments_lexer": "ipython3",
   "version": "3.7.4"
  },
  "toc": {
   "base_numbering": 1,
   "nav_menu": {
    "height": "220px",
    "width": "539px"
   },
   "number_sections": true,
   "sideBar": true,
   "skip_h1_title": false,
   "title_cell": "Table of Contents",
   "title_sidebar": "Contents",
   "toc_cell": false,
   "toc_position": {
    "height": "calc(100% - 180px)",
    "left": "10px",
    "top": "150px",
    "width": "307px"
   },
   "toc_section_display": true,
   "toc_window_display": true
  },
  "varInspector": {
   "cols": {
    "lenName": 16,
    "lenType": 16,
    "lenVar": 40
   },
   "kernels_config": {
    "python": {
     "delete_cmd_postfix": "",
     "delete_cmd_prefix": "del ",
     "library": "var_list.py",
     "varRefreshCmd": "print(var_dic_list())"
    },
    "r": {
     "delete_cmd_postfix": ") ",
     "delete_cmd_prefix": "rm(",
     "library": "var_list.r",
     "varRefreshCmd": "cat(var_dic_list()) "
    }
   },
   "types_to_exclude": [
    "module",
    "function",
    "builtin_function_or_method",
    "instance",
    "_Feature"
   ],
   "window_display": false
  }
 },
 "nbformat": 4,
 "nbformat_minor": 4
}
